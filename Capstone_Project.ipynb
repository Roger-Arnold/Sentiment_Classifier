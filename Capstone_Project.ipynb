{
 "cells": [
  {
   "cell_type": "markdown",
   "metadata": {
    "id": "B7fUgMzB6H4q"
   },
   "source": [
    "# 1. Import and reading dataset"
   ]
  },
  {
   "cell_type": "code",
   "execution_count": 250,
   "metadata": {},
   "outputs": [],
   "source": [
    "import warnings\n",
    "warnings.filterwarnings('ignore')"
   ]
  },
  {
   "cell_type": "code",
   "execution_count": 251,
   "metadata": {
    "executionInfo": {
     "elapsed": 1750,
     "status": "ok",
     "timestamp": 1728892935512,
     "user": {
      "displayName": "Roger Arnold",
      "userId": "09812673021537292555"
     },
     "user_tz": -330
    },
    "id": "KPbDF0B1THO_"
   },
   "outputs": [],
   "source": [
    "import pandas as pd\n",
    "import re\n",
    "import string\n",
    "from bs4 import BeautifulSoup"
   ]
  },
  {
   "cell_type": "code",
   "execution_count": 252,
   "metadata": {
    "colab": {
     "base_uri": "https://localhost:8080/"
    },
    "executionInfo": {
     "elapsed": 53969,
     "status": "ok",
     "timestamp": 1728892989475,
     "user": {
      "displayName": "Roger Arnold",
      "userId": "09812673021537292555"
     },
     "user_tz": -330
    },
    "id": "CAjhe0neSKjr",
    "outputId": "c752c02e-f782-4235-cef0-2f584ebfc290"
   },
   "outputs": [],
   "source": [
    "# from google.colab import drive\n",
    "# drive.mount('/content/gdrive')"
   ]
  },
  {
   "cell_type": "code",
   "execution_count": 336,
   "metadata": {
    "executionInfo": {
     "elapsed": 7,
     "status": "ok",
     "timestamp": 1728892989475,
     "user": {
      "displayName": "Roger Arnold",
      "userId": "09812673021537292555"
     },
     "user_tz": -330
    },
    "id": "WviJGJO0TAj4"
   },
   "outputs": [],
   "source": [
    "file_path = \"https://raw.githubusercontent.com/Roger-Arnold/Sentiment_Classifier/refs/heads/main/sample30.csv\""
   ]
  },
  {
   "cell_type": "code",
   "execution_count": 254,
   "metadata": {
    "executionInfo": {
     "elapsed": 3195,
     "status": "ok",
     "timestamp": 1728892992664,
     "user": {
      "displayName": "Roger Arnold",
      "userId": "09812673021537292555"
     },
     "user_tz": -330
    },
    "id": "4DEMoeTBTCUv"
   },
   "outputs": [],
   "source": [
    "df = pd.read_csv(file_path)"
   ]
  },
  {
   "cell_type": "code",
   "execution_count": 255,
   "metadata": {
    "colab": {
     "base_uri": "https://localhost:8080/",
     "height": 0
    },
    "executionInfo": {
     "elapsed": 24,
     "status": "ok",
     "timestamp": 1728892992666,
     "user": {
      "displayName": "Roger Arnold",
      "userId": "09812673021537292555"
     },
     "user_tz": -330
    },
    "id": "KQusG5upURYY",
    "outputId": "1d5c6d10-7b26-4984-b4bc-291e041776df"
   },
   "outputs": [
    {
     "data": {
      "text/plain": [
       "0    i love this album. it's very good. more to the...\n",
       "1    Good flavor. This review was collected as part...\n",
       "2                                         Good flavor.\n",
       "3    I read through the reviews on here before look...\n",
       "4    My husband bought this gel for us. The gel cau...\n",
       "Name: reviews_text, dtype: object"
      ]
     },
     "execution_count": 255,
     "metadata": {},
     "output_type": "execute_result"
    }
   ],
   "source": [
    "df['reviews_text'].head()"
   ]
  },
  {
   "cell_type": "markdown",
   "metadata": {
    "id": "XMe_XAd3wKPC"
   },
   "source": [
    "# 2.Handling missing values"
   ]
  },
  {
   "cell_type": "code",
   "execution_count": 256,
   "metadata": {
    "colab": {
     "base_uri": "https://localhost:8080/",
     "height": 0
    },
    "executionInfo": {
     "elapsed": 22,
     "status": "ok",
     "timestamp": 1728892992666,
     "user": {
      "displayName": "Roger Arnold",
      "userId": "09812673021537292555"
     },
     "user_tz": -330
    },
    "id": "umlPdS4ewL8R",
    "outputId": "1c1d0cba-e65d-4264-f942-beef17869081"
   },
   "outputs": [
    {
     "data": {
      "text/html": [
       "<div>\n",
       "<style scoped>\n",
       "    .dataframe tbody tr th:only-of-type {\n",
       "        vertical-align: middle;\n",
       "    }\n",
       "\n",
       "    .dataframe tbody tr th {\n",
       "        vertical-align: top;\n",
       "    }\n",
       "\n",
       "    .dataframe thead th {\n",
       "        text-align: right;\n",
       "    }\n",
       "</style>\n",
       "<table border=\"1\" class=\"dataframe\">\n",
       "  <thead>\n",
       "    <tr style=\"text-align: right;\">\n",
       "      <th></th>\n",
       "      <th>Null_Values</th>\n",
       "    </tr>\n",
       "  </thead>\n",
       "  <tbody>\n",
       "    <tr>\n",
       "      <th>reviews_userProvince</th>\n",
       "      <td>29830</td>\n",
       "    </tr>\n",
       "    <tr>\n",
       "      <th>reviews_userCity</th>\n",
       "      <td>28071</td>\n",
       "    </tr>\n",
       "    <tr>\n",
       "      <th>reviews_didPurchase</th>\n",
       "      <td>14068</td>\n",
       "    </tr>\n",
       "    <tr>\n",
       "      <th>reviews_doRecommend</th>\n",
       "      <td>2570</td>\n",
       "    </tr>\n",
       "    <tr>\n",
       "      <th>reviews_title</th>\n",
       "      <td>190</td>\n",
       "    </tr>\n",
       "    <tr>\n",
       "      <th>manufacturer</th>\n",
       "      <td>141</td>\n",
       "    </tr>\n",
       "    <tr>\n",
       "      <th>reviews_username</th>\n",
       "      <td>63</td>\n",
       "    </tr>\n",
       "    <tr>\n",
       "      <th>reviews_date</th>\n",
       "      <td>46</td>\n",
       "    </tr>\n",
       "    <tr>\n",
       "      <th>user_sentiment</th>\n",
       "      <td>1</td>\n",
       "    </tr>\n",
       "    <tr>\n",
       "      <th>id</th>\n",
       "      <td>0</td>\n",
       "    </tr>\n",
       "    <tr>\n",
       "      <th>brand</th>\n",
       "      <td>0</td>\n",
       "    </tr>\n",
       "    <tr>\n",
       "      <th>categories</th>\n",
       "      <td>0</td>\n",
       "    </tr>\n",
       "    <tr>\n",
       "      <th>name</th>\n",
       "      <td>0</td>\n",
       "    </tr>\n",
       "    <tr>\n",
       "      <th>reviews_rating</th>\n",
       "      <td>0</td>\n",
       "    </tr>\n",
       "    <tr>\n",
       "      <th>reviews_text</th>\n",
       "      <td>0</td>\n",
       "    </tr>\n",
       "  </tbody>\n",
       "</table>\n",
       "</div>"
      ],
      "text/plain": [
       "                      Null_Values\n",
       "reviews_userProvince        29830\n",
       "reviews_userCity            28071\n",
       "reviews_didPurchase         14068\n",
       "reviews_doRecommend          2570\n",
       "reviews_title                 190\n",
       "manufacturer                  141\n",
       "reviews_username               63\n",
       "reviews_date                   46\n",
       "user_sentiment                  1\n",
       "id                              0\n",
       "brand                           0\n",
       "categories                      0\n",
       "name                            0\n",
       "reviews_rating                  0\n",
       "reviews_text                    0"
      ]
     },
     "execution_count": 256,
     "metadata": {},
     "output_type": "execute_result"
    }
   ],
   "source": [
    "df.isna().sum().to_frame(name='Null_Values').sort_values(by='Null_Values', ascending=False)"
   ]
  },
  {
   "cell_type": "code",
   "execution_count": 257,
   "metadata": {
    "colab": {
     "base_uri": "https://localhost:8080/",
     "height": 0
    },
    "executionInfo": {
     "elapsed": 20,
     "status": "ok",
     "timestamp": 1728892992667,
     "user": {
      "displayName": "Roger Arnold",
      "userId": "09812673021537292555"
     },
     "user_tz": -330
    },
    "id": "ZZvzPk9XwYGE",
    "outputId": "7d040e65-4ed7-4e52-e39c-6601625e4550"
   },
   "outputs": [
    {
     "data": {
      "text/html": [
       "<div>\n",
       "<style scoped>\n",
       "    .dataframe tbody tr th:only-of-type {\n",
       "        vertical-align: middle;\n",
       "    }\n",
       "\n",
       "    .dataframe tbody tr th {\n",
       "        vertical-align: top;\n",
       "    }\n",
       "\n",
       "    .dataframe thead th {\n",
       "        text-align: right;\n",
       "    }\n",
       "</style>\n",
       "<table border=\"1\" class=\"dataframe\">\n",
       "  <thead>\n",
       "    <tr style=\"text-align: right;\">\n",
       "      <th></th>\n",
       "      <th>id</th>\n",
       "      <th>reviews_text</th>\n",
       "    </tr>\n",
       "  </thead>\n",
       "  <tbody>\n",
       "    <tr>\n",
       "      <th>28354</th>\n",
       "      <td>AVpfRTh1ilAPnD_xYic2</td>\n",
       "      <td>my kids absolutely loved this film so much tha...</td>\n",
       "    </tr>\n",
       "  </tbody>\n",
       "</table>\n",
       "</div>"
      ],
      "text/plain": [
       "                         id                                       reviews_text\n",
       "28354  AVpfRTh1ilAPnD_xYic2  my kids absolutely loved this film so much tha..."
      ]
     },
     "execution_count": 257,
     "metadata": {},
     "output_type": "execute_result"
    }
   ],
   "source": [
    "df[['id','reviews_text']][ df['user_sentiment'].isna() == True]"
   ]
  },
  {
   "cell_type": "code",
   "execution_count": 258,
   "metadata": {
    "colab": {
     "base_uri": "https://localhost:8080/"
    },
    "executionInfo": {
     "elapsed": 18,
     "status": "ok",
     "timestamp": 1728892992667,
     "user": {
      "displayName": "Roger Arnold",
      "userId": "09812673021537292555"
     },
     "user_tz": -330
    },
    "id": "1irg7tqBwlIv",
    "outputId": "e34e42b7-7939-4d64-e4bc-2c7dfd622d70"
   },
   "outputs": [],
   "source": [
    "df['user_sentiment'].fillna(value = 'Positive', inplace = True)"
   ]
  },
  {
   "cell_type": "code",
   "execution_count": 259,
   "metadata": {
    "executionInfo": {
     "elapsed": 16,
     "status": "ok",
     "timestamp": 1728892992667,
     "user": {
      "displayName": "Roger Arnold",
      "userId": "09812673021537292555"
     },
     "user_tz": -330
    },
    "id": "ggF_vQvOTV7A"
   },
   "outputs": [],
   "source": [
    "df['user_sentiment']=df.user_sentiment.map({'Positive':1 , 'Negative':0})"
   ]
  },
  {
   "cell_type": "markdown",
   "metadata": {
    "id": "Pr-LrFdd6TPK"
   },
   "source": [
    "# 3. Text Processing"
   ]
  },
  {
   "cell_type": "code",
   "execution_count": 260,
   "metadata": {
    "executionInfo": {
     "elapsed": 16,
     "status": "ok",
     "timestamp": 1728892992667,
     "user": {
      "displayName": "Roger Arnold",
      "userId": "09812673021537292555"
     },
     "user_tz": -330
    },
    "id": "AlBkdOaTTW1v"
   },
   "outputs": [],
   "source": [
    "def clean_text(text):\n",
    "    text = text.lower()  # Lowercase\n",
    "    text = re.sub(r'\\d+', '', text)  # Remove numbers\n",
    "    text = text.translate(str.maketrans('', '', string.punctuation))  # Remove punctuation\n",
    "    text = re.sub(r'\\W', ' ', text)  # Remove special characters\n",
    "    text = BeautifulSoup(text, \"html.parser\").get_text()  # Remove HTML tags\n",
    "    return text"
   ]
  },
  {
   "cell_type": "code",
   "execution_count": 261,
   "metadata": {
    "executionInfo": {
     "elapsed": 2281,
     "status": "ok",
     "timestamp": 1728892994933,
     "user": {
      "displayName": "Roger Arnold",
      "userId": "09812673021537292555"
     },
     "user_tz": -330
    },
    "id": "hAvBhuDiT6ny"
   },
   "outputs": [],
   "source": [
    "df['reviews_text'] = df['reviews_text'].apply(clean_text)"
   ]
  },
  {
   "cell_type": "code",
   "execution_count": 262,
   "metadata": {
    "colab": {
     "base_uri": "https://localhost:8080/",
     "height": 0
    },
    "executionInfo": {
     "elapsed": 11,
     "status": "ok",
     "timestamp": 1728892994934,
     "user": {
      "displayName": "Roger Arnold",
      "userId": "09812673021537292555"
     },
     "user_tz": -330
    },
    "id": "Os4jHXXwUKAA",
    "outputId": "f125065f-38ce-4ad2-eaae-6df147088ea5"
   },
   "outputs": [
    {
     "data": {
      "text/plain": [
       "0        i love this album its very good more to the hi...\n",
       "1        good flavor this review was collected as part ...\n",
       "2                                              good flavor\n",
       "3        i read through the reviews on here before look...\n",
       "4        my husband bought this gel for us the gel caus...\n",
       "                               ...                        \n",
       "29995    i got this conditioner with influenster to try...\n",
       "29996    i love it  i received this for review purposes...\n",
       "29997    first of all i love the smell of this product ...\n",
       "29998    i received this through influenster and will n...\n",
       "29999    i received this product complimentary from inf...\n",
       "Name: reviews_text, Length: 30000, dtype: object"
      ]
     },
     "execution_count": 262,
     "metadata": {},
     "output_type": "execute_result"
    }
   ],
   "source": [
    "df['reviews_text']"
   ]
  },
  {
   "cell_type": "markdown",
   "metadata": {
    "id": "X1LJArqK68Q4"
   },
   "source": [
    "# 4.Word Tokenization"
   ]
  },
  {
   "cell_type": "code",
   "execution_count": 263,
   "metadata": {
    "colab": {
     "base_uri": "https://localhost:8080/"
    },
    "executionInfo": {
     "elapsed": 1962,
     "status": "ok",
     "timestamp": 1728892996888,
     "user": {
      "displayName": "Roger Arnold",
      "userId": "09812673021537292555"
     },
     "user_tz": -330
    },
    "id": "vquc6cSVUe19",
    "outputId": "65c2d0d4-1d9b-4931-b39c-20c28dfeada2"
   },
   "outputs": [
    {
     "name": "stderr",
     "output_type": "stream",
     "text": [
      "[nltk_data] Downloading package punkt to C:\\Users\\Roger\n",
      "[nltk_data]     Arnold\\AppData\\Roaming\\nltk_data...\n",
      "[nltk_data]   Package punkt is already up-to-date!\n"
     ]
    },
    {
     "data": {
      "text/plain": [
       "True"
      ]
     },
     "execution_count": 263,
     "metadata": {},
     "output_type": "execute_result"
    }
   ],
   "source": [
    "from nltk.tokenize import word_tokenize\n",
    "import nltk\n",
    "nltk.download('punkt')"
   ]
  },
  {
   "cell_type": "code",
   "execution_count": 264,
   "metadata": {
    "executionInfo": {
     "elapsed": 6023,
     "status": "ok",
     "timestamp": 1728893002905,
     "user": {
      "displayName": "Roger Arnold",
      "userId": "09812673021537292555"
     },
     "user_tz": -330
    },
    "id": "mwSr-12aUliF"
   },
   "outputs": [],
   "source": [
    "df['reviews_text'] = df['reviews_text'].apply(word_tokenize)"
   ]
  },
  {
   "cell_type": "code",
   "execution_count": 265,
   "metadata": {
    "colab": {
     "base_uri": "https://localhost:8080/",
     "height": 0
    },
    "executionInfo": {
     "elapsed": 25,
     "status": "ok",
     "timestamp": 1728893002906,
     "user": {
      "displayName": "Roger Arnold",
      "userId": "09812673021537292555"
     },
     "user_tz": -330
    },
    "id": "IcY2gHcPU6wr",
    "outputId": "15283483-2f20-4b43-beac-d4bb3e81d1b4"
   },
   "outputs": [
    {
     "data": {
      "text/plain": [
       "0    [i, love, this, album, its, very, good, more, ...\n",
       "1    [good, flavor, this, review, was, collected, a...\n",
       "2                                       [good, flavor]\n",
       "3    [i, read, through, the, reviews, on, here, bef...\n",
       "4    [my, husband, bought, this, gel, for, us, the,...\n",
       "Name: reviews_text, dtype: object"
      ]
     },
     "execution_count": 265,
     "metadata": {},
     "output_type": "execute_result"
    }
   ],
   "source": [
    "df['reviews_text'].head()"
   ]
  },
  {
   "cell_type": "markdown",
   "metadata": {
    "id": "rrzEBROY7IRo"
   },
   "source": [
    "# 5. Removal of Stop Words"
   ]
  },
  {
   "cell_type": "code",
   "execution_count": 266,
   "metadata": {
    "colab": {
     "base_uri": "https://localhost:8080/"
    },
    "executionInfo": {
     "elapsed": 23,
     "status": "ok",
     "timestamp": 1728893002907,
     "user": {
      "displayName": "Roger Arnold",
      "userId": "09812673021537292555"
     },
     "user_tz": -330
    },
    "id": "8CLFJfEBU_Ri",
    "outputId": "af65353f-e7bd-4702-e9dd-1cf8253bd7fb"
   },
   "outputs": [
    {
     "name": "stderr",
     "output_type": "stream",
     "text": [
      "[nltk_data] Downloading package stopwords to C:\\Users\\Roger\n",
      "[nltk_data]     Arnold\\AppData\\Roaming\\nltk_data...\n",
      "[nltk_data]   Package stopwords is already up-to-date!\n"
     ]
    }
   ],
   "source": [
    "from nltk.corpus import stopwords\n",
    "nltk.download('stopwords')\n",
    "\n",
    "stop_words = set(stopwords.words('english'))"
   ]
  },
  {
   "cell_type": "code",
   "execution_count": 267,
   "metadata": {
    "executionInfo": {
     "elapsed": 21,
     "status": "ok",
     "timestamp": 1728893002907,
     "user": {
      "displayName": "Roger Arnold",
      "userId": "09812673021537292555"
     },
     "user_tz": -330
    },
    "id": "A6c5hy18VGKC"
   },
   "outputs": [],
   "source": [
    "def remove_stopwords(text):\n",
    "    return [word for word in text if word not in stop_words]"
   ]
  },
  {
   "cell_type": "code",
   "execution_count": 268,
   "metadata": {
    "executionInfo": {
     "elapsed": 21,
     "status": "ok",
     "timestamp": 1728893002908,
     "user": {
      "displayName": "Roger Arnold",
      "userId": "09812673021537292555"
     },
     "user_tz": -330
    },
    "id": "5uDh2uDYWgwt"
   },
   "outputs": [],
   "source": [
    "df['reviews_text'] = df['reviews_text'].apply(remove_stopwords)"
   ]
  },
  {
   "cell_type": "code",
   "execution_count": 269,
   "metadata": {
    "colab": {
     "base_uri": "https://localhost:8080/",
     "height": 0
    },
    "executionInfo": {
     "elapsed": 20,
     "status": "ok",
     "timestamp": 1728893002908,
     "user": {
      "displayName": "Roger Arnold",
      "userId": "09812673021537292555"
     },
     "user_tz": -330
    },
    "id": "R_JuBXa-Wkzj",
    "outputId": "4f2e1ef0-de52-44ee-8229-231b5abd6c3c"
   },
   "outputs": [
    {
     "data": {
      "text/plain": [
       "0        [love, album, good, hip, hop, side, current, p...\n",
       "1        [good, flavor, review, collected, part, promot...\n",
       "2                                           [good, flavor]\n",
       "3        [read, reviews, looking, buying, one, couples,...\n",
       "4        [husband, bought, gel, us, gel, caused, irrita...\n",
       "                               ...                        \n",
       "29995    [got, conditioner, influenster, try, im, lovin...\n",
       "29996    [love, received, review, purposes, influenster...\n",
       "29997    [first, love, smell, product, wash, hair, smoo...\n",
       "29998    [received, influenster, never, go, back, anyth...\n",
       "29999    [received, product, complimentary, influenster...\n",
       "Name: reviews_text, Length: 30000, dtype: object"
      ]
     },
     "execution_count": 269,
     "metadata": {},
     "output_type": "execute_result"
    }
   ],
   "source": [
    "df['reviews_text']"
   ]
  },
  {
   "cell_type": "code",
   "execution_count": 270,
   "metadata": {
    "colab": {
     "base_uri": "https://localhost:8080/"
    },
    "executionInfo": {
     "elapsed": 3889,
     "status": "ok",
     "timestamp": 1728893006782,
     "user": {
      "displayName": "Roger Arnold",
      "userId": "09812673021537292555"
     },
     "user_tz": -330
    },
    "id": "aFpqWmCWX5eK",
    "outputId": "d4709584-22d3-4238-de73-cc9f0c329f90"
   },
   "outputs": [
    {
     "name": "stdout",
     "output_type": "stream",
     "text": [
      "Requirement already satisfied: emoji in c:\\users\\roger arnold\\anaconda3\\lib\\site-packages (2.14.0)\n",
      "Note: you may need to restart the kernel to use updated packages.\n"
     ]
    },
    {
     "name": "stderr",
     "output_type": "stream",
     "text": [
      "\n",
      "[notice] A new release of pip is available: 24.0 -> 24.2\n",
      "[notice] To update, run: python.exe -m pip install --upgrade pip\n"
     ]
    }
   ],
   "source": [
    "pip install emoji --upgrade"
   ]
  },
  {
   "cell_type": "markdown",
   "metadata": {
    "id": "CtKKhjMm7MSX"
   },
   "source": [
    "# 6. Removing emoji characters if any"
   ]
  },
  {
   "cell_type": "code",
   "execution_count": 271,
   "metadata": {
    "executionInfo": {
     "elapsed": 5270,
     "status": "ok",
     "timestamp": 1728893012045,
     "user": {
      "displayName": "Roger Arnold",
      "userId": "09812673021537292555"
     },
     "user_tz": -330
    },
    "id": "fE1Pdc7JXkNQ"
   },
   "outputs": [],
   "source": [
    "import emoji\n",
    "df['reviews_text'] = df['reviews_text'].apply(lambda x: [emoji.demojize(word) for word in x])"
   ]
  },
  {
   "cell_type": "code",
   "execution_count": 272,
   "metadata": {
    "colab": {
     "base_uri": "https://localhost:8080/",
     "height": 0
    },
    "executionInfo": {
     "elapsed": 13,
     "status": "ok",
     "timestamp": 1728893012045,
     "user": {
      "displayName": "Roger Arnold",
      "userId": "09812673021537292555"
     },
     "user_tz": -330
    },
    "id": "OrbwhqnYX_RB",
    "outputId": "07742355-5fa5-4c4b-e7c0-2ff801a88498"
   },
   "outputs": [
    {
     "data": {
      "text/plain": [
       "0    [love, album, good, hip, hop, side, current, p...\n",
       "1    [good, flavor, review, collected, part, promot...\n",
       "2                                       [good, flavor]\n",
       "3    [read, reviews, looking, buying, one, couples,...\n",
       "4    [husband, bought, gel, us, gel, caused, irrita...\n",
       "Name: reviews_text, dtype: object"
      ]
     },
     "execution_count": 272,
     "metadata": {},
     "output_type": "execute_result"
    }
   ],
   "source": [
    "df['reviews_text'].head()"
   ]
  },
  {
   "cell_type": "markdown",
   "metadata": {
    "id": "8DslVjZA7TbV"
   },
   "source": [
    "# 7. Lemmatizing the text data"
   ]
  },
  {
   "cell_type": "code",
   "execution_count": 273,
   "metadata": {},
   "outputs": [],
   "source": [
    "# import nltk\n",
    "# nltk.download()"
   ]
  },
  {
   "cell_type": "code",
   "execution_count": 274,
   "metadata": {},
   "outputs": [
    {
     "name": "stderr",
     "output_type": "stream",
     "text": [
      "[nltk_data] Downloading package omw-1.4 to C:\\Users\\Roger\n",
      "[nltk_data]     Arnold\\AppData\\Roaming\\nltk_data...\n",
      "[nltk_data]   Package omw-1.4 is already up-to-date!\n"
     ]
    },
    {
     "data": {
      "text/plain": [
       "True"
      ]
     },
     "execution_count": 274,
     "metadata": {},
     "output_type": "execute_result"
    }
   ],
   "source": [
    "nltk.download('omw-1.4')"
   ]
  },
  {
   "cell_type": "code",
   "execution_count": 275,
   "metadata": {
    "colab": {
     "base_uri": "https://localhost:8080/"
    },
    "executionInfo": {
     "elapsed": 11,
     "status": "ok",
     "timestamp": 1728893012046,
     "user": {
      "displayName": "Roger Arnold",
      "userId": "09812673021537292555"
     },
     "user_tz": -330
    },
    "id": "FAG_eJm7grA0",
    "outputId": "400d0d40-0904-416b-9143-96e993074556"
   },
   "outputs": [
    {
     "name": "stderr",
     "output_type": "stream",
     "text": [
      "[nltk_data] Downloading package wordnet to C:\\Users\\Roger\n",
      "[nltk_data]     Arnold\\AppData\\Roaming\\nltk_data...\n",
      "[nltk_data]   Package wordnet is already up-to-date!\n"
     ]
    },
    {
     "data": {
      "text/plain": [
       "True"
      ]
     },
     "execution_count": 275,
     "metadata": {},
     "output_type": "execute_result"
    }
   ],
   "source": [
    "from nltk.stem import WordNetLemmatizer\n",
    "nltk.download('wordnet')"
   ]
  },
  {
   "cell_type": "code",
   "execution_count": 276,
   "metadata": {
    "executionInfo": {
     "elapsed": 9,
     "status": "ok",
     "timestamp": 1728893012046,
     "user": {
      "displayName": "Roger Arnold",
      "userId": "09812673021537292555"
     },
     "user_tz": -330
    },
    "id": "wm_Z_9Foi2bE"
   },
   "outputs": [],
   "source": [
    "def word_lemmatizer(text):\n",
    "    return [WordNetLemmatizer().lemmatize(word) for word in text]"
   ]
  },
  {
   "cell_type": "code",
   "execution_count": 277,
   "metadata": {
    "executionInfo": {
     "elapsed": 7969,
     "status": "ok",
     "timestamp": 1728893020006,
     "user": {
      "displayName": "Roger Arnold",
      "userId": "09812673021537292555"
     },
     "user_tz": -330
    },
    "id": "6qm_DuTJjGbj"
   },
   "outputs": [],
   "source": [
    "df['reviews_text'] = df['reviews_text'].apply(word_lemmatizer)"
   ]
  },
  {
   "cell_type": "code",
   "execution_count": 278,
   "metadata": {
    "colab": {
     "base_uri": "https://localhost:8080/",
     "height": 0
    },
    "executionInfo": {
     "elapsed": 20,
     "status": "ok",
     "timestamp": 1728893020008,
     "user": {
      "displayName": "Roger Arnold",
      "userId": "09812673021537292555"
     },
     "user_tz": -330
    },
    "id": "eXY1J2x8qTPG",
    "outputId": "2c41626d-850a-41b6-df76-7a86ce4090ff"
   },
   "outputs": [
    {
     "data": {
      "text/plain": [
       "0    [love, album, good, hip, hop, side, current, p...\n",
       "1    [good, flavor, review, collected, part, promot...\n",
       "2                                       [good, flavor]\n",
       "3    [read, review, looking, buying, one, couple, l...\n",
       "4    [husband, bought, gel, u, gel, caused, irritat...\n",
       "Name: reviews_text, dtype: object"
      ]
     },
     "execution_count": 278,
     "metadata": {},
     "output_type": "execute_result"
    }
   ],
   "source": [
    "df['reviews_text'].head()"
   ]
  },
  {
   "cell_type": "markdown",
   "metadata": {
    "id": "JpzT08tj7X8J"
   },
   "source": [
    "# 8. Joining all the tokens as a single text"
   ]
  },
  {
   "cell_type": "code",
   "execution_count": 279,
   "metadata": {
    "executionInfo": {
     "elapsed": 18,
     "status": "ok",
     "timestamp": 1728893020008,
     "user": {
      "displayName": "Roger Arnold",
      "userId": "09812673021537292555"
     },
     "user_tz": -330
    },
    "id": "9E_CEUJE31Hh"
   },
   "outputs": [],
   "source": [
    "def join_text(text):\n",
    "    return \" \".join(text)\n",
    "\n",
    "df['reviews_text'] = df['reviews_text'].apply(join_text)"
   ]
  },
  {
   "cell_type": "markdown",
   "metadata": {
    "id": "5E6Wy9c9t14C"
   },
   "source": [
    "# 9. Train test split"
   ]
  },
  {
   "cell_type": "code",
   "execution_count": 280,
   "metadata": {
    "executionInfo": {
     "elapsed": 18,
     "status": "ok",
     "timestamp": 1728893020009,
     "user": {
      "displayName": "Roger Arnold",
      "userId": "09812673021537292555"
     },
     "user_tz": -330
    },
    "id": "lFHNq71ot3pV"
   },
   "outputs": [],
   "source": [
    "from sklearn.model_selection import train_test_split"
   ]
  },
  {
   "cell_type": "code",
   "execution_count": 281,
   "metadata": {
    "colab": {
     "base_uri": "https://localhost:8080/",
     "height": 0
    },
    "executionInfo": {
     "elapsed": 17,
     "status": "ok",
     "timestamp": 1728893020009,
     "user": {
      "displayName": "Roger Arnold",
      "userId": "09812673021537292555"
     },
     "user_tz": -330
    },
    "id": "35YnKmY6uNUg",
    "outputId": "de05af09-d184-4f7a-adfa-95705dab3032"
   },
   "outputs": [
    {
     "data": {
      "text/plain": [
       "0        1\n",
       "1        1\n",
       "2        1\n",
       "3        0\n",
       "4        0\n",
       "        ..\n",
       "29995    1\n",
       "29996    1\n",
       "29997    1\n",
       "29998    1\n",
       "29999    1\n",
       "Name: user_sentiment, Length: 30000, dtype: int64"
      ]
     },
     "execution_count": 281,
     "metadata": {},
     "output_type": "execute_result"
    }
   ],
   "source": [
    "df['user_sentiment']"
   ]
  },
  {
   "cell_type": "code",
   "execution_count": 282,
   "metadata": {
    "executionInfo": {
     "elapsed": 15,
     "status": "ok",
     "timestamp": 1728893020009,
     "user": {
      "displayName": "Roger Arnold",
      "userId": "09812673021537292555"
     },
     "user_tz": -330
    },
    "id": "oNtontz3t6jg"
   },
   "outputs": [],
   "source": [
    "X = df.reviews_text\n",
    "y = df.user_sentiment\n",
    "\n",
    "X_train, X_test, y_train, y_test = train_test_split( X, y, test_size=0.20, random_state=1, stratify=y )"
   ]
  },
  {
   "cell_type": "markdown",
   "metadata": {
    "id": "Lom7YCjKtdPc"
   },
   "source": [
    "# 10. Vectorization of words"
   ]
  },
  {
   "cell_type": "code",
   "execution_count": 283,
   "metadata": {
    "executionInfo": {
     "elapsed": 14,
     "status": "ok",
     "timestamp": 1728893020009,
     "user": {
      "displayName": "Roger Arnold",
      "userId": "09812673021537292555"
     },
     "user_tz": -330
    },
    "id": "YPVBDu23tpv1"
   },
   "outputs": [],
   "source": [
    "from sklearn.feature_extraction.text import TfidfVectorizer\n",
    "from sklearn.feature_extraction.text import CountVectorizer"
   ]
  },
  {
   "cell_type": "code",
   "execution_count": 284,
   "metadata": {
    "executionInfo": {
     "elapsed": 1973,
     "status": "ok",
     "timestamp": 1728893021969,
     "user": {
      "displayName": "Roger Arnold",
      "userId": "09812673021537292555"
     },
     "user_tz": -330
    },
    "id": "XyHVN9LbtdA1"
   },
   "outputs": [],
   "source": [
    "bow_vectorizer = CountVectorizer(max_features=10000)\n",
    "bow_vectorizer.fit(X_train)\n",
    "\n",
    "# transform\n",
    "bow_X_train = bow_vectorizer.transform(X_train)\n",
    "bow_X_test = bow_vectorizer.transform(X_test)"
   ]
  },
  {
   "cell_type": "code",
   "execution_count": 285,
   "metadata": {
    "executionInfo": {
     "elapsed": 2397,
     "status": "ok",
     "timestamp": 1728893024361,
     "user": {
      "displayName": "Roger Arnold",
      "userId": "09812673021537292555"
     },
     "user_tz": -330
    },
    "id": "r-UR9I1XtBit"
   },
   "outputs": [],
   "source": [
    "tfidf_vectorizer = TfidfVectorizer(max_features=10000)\n",
    "tfidf_vectorizer.fit(X_train)\n",
    "\n",
    "# transform\n",
    "tfidf_X_train = tfidf_vectorizer.transform(X_train)\n",
    "tfidf_X_test = tfidf_vectorizer.transform(X_test)"
   ]
  },
  {
   "cell_type": "markdown",
   "metadata": {
    "id": "6ZYpuPq_8QBD"
   },
   "source": [
    "# 11. Trying out with different models"
   ]
  },
  {
   "cell_type": "code",
   "execution_count": 286,
   "metadata": {
    "id": "lRfaSuuix42j"
   },
   "outputs": [],
   "source": [
    "from sklearn.linear_model import LogisticRegression\n",
    "from sklearn.naive_bayes import MultinomialNB\n",
    "from sklearn.neighbors import KNeighborsClassifier\n",
    "\n",
    "from sklearn.metrics import accuracy_score"
   ]
  },
  {
   "cell_type": "markdown",
   "metadata": {
    "id": "zivUSAav9ypP"
   },
   "source": [
    "### i. Generic function for training and evaluation"
   ]
  },
  {
   "cell_type": "code",
   "execution_count": 287,
   "metadata": {
    "id": "reNnOrD7QmYf"
   },
   "outputs": [],
   "source": [
    "data = pd.DataFrame()"
   ]
  },
  {
   "cell_type": "code",
   "execution_count": 289,
   "metadata": {
    "id": "7vkteFje4X7R"
   },
   "outputs": [],
   "source": [
    "def train_and_eval(model, trainX, trainY, testX, testY):\n",
    "\n",
    "    # training\n",
    "    _ = model.fit(trainX, trainY)\n",
    "\n",
    "    # predictions\n",
    "    y_preds_train = model.predict(trainX)\n",
    "    y_preds_test = model.predict(testX)\n",
    " \n",
    "    Train_accuracy_score = round(accuracy_score(y_train,y_preds_train)*100,3)\n",
    "    Test_accuracy_score =  round(accuracy_score(y_test,y_preds_test)*100,3)\n",
    "\n",
    "    stats = {  \"Model\" :  model ,\n",
    "               \"Train_accuracy_score\" : Train_accuracy_score ,\n",
    "               \"Test_accuracy_score\": Test_accuracy_score }\n",
    "    return stats"
   ]
  },
  {
   "cell_type": "markdown",
   "metadata": {},
   "source": [
    "###  ii . Logistic Regression Model ( BOW, TF-IDF )"
   ]
  },
  {
   "cell_type": "code",
   "execution_count": 290,
   "metadata": {
    "id": "_pF1AbVNxxXL"
   },
   "outputs": [],
   "source": [
    "C = [0.001, 0.01, 0.1, 1, 10]\n",
    "\n",
    "# print(\"Logistic Regression with bag of words vectors\")\n",
    "for c in C:\n",
    "    # Define model\n",
    "    log_model = LogisticRegression(C=c, max_iter=500, random_state=1)\n",
    "\n",
    "    # Train and evaluate model\n",
    "    new_data = train_and_eval(model=log_model,\n",
    "                   trainX=bow_X_train,\n",
    "                   trainY=y_train,\n",
    "                   testX=bow_X_test,\n",
    "                   testY=y_test)\n",
    "    new_data[\"Vectorization\"] = \"BOW\"\n",
    "    new_data[\"Algorithm\"] = \"Logistic_Regression\"\n",
    "    data = data._append(new_data, ignore_index=True)\n",
    "\n",
    "# print(\"\\nLogistic Regression with TF-IDF vectors\")\n",
    "\n",
    "for c in C:\n",
    "    # Define model\n",
    "    log_model = LogisticRegression(C=c, max_iter=500, random_state=1)\n",
    "\n",
    "    # Train and evaluate model\n",
    "    new_data = train_and_eval(model=log_model,\n",
    "                   trainX=tfidf_X_train,\n",
    "                   trainY=y_train,\n",
    "                   testX=tfidf_X_test,\n",
    "                   testY=y_test)\n",
    "    new_data[\"Vectorization\"] = \"TF-IDF\"\n",
    "    new_data[\"Algorithm\"] = \"Logistic_Regression\"\n",
    "    data = data._append(new_data, ignore_index=True)\n"
   ]
  },
  {
   "cell_type": "markdown",
   "metadata": {},
   "source": [
    "###  iii . Multinomial Naive Bayes Model ( BOW, TF-IDF )"
   ]
  },
  {
   "cell_type": "code",
   "execution_count": 291,
   "metadata": {
    "colab": {
     "base_uri": "https://localhost:8080/"
    },
    "executionInfo": {
     "elapsed": 1289,
     "status": "ok",
     "timestamp": 1728567218060,
     "user": {
      "displayName": "Roger Arnold",
      "userId": "09812673021537292555"
     },
     "user_tz": -330
    },
    "id": "0fMyiOoYyotW",
    "outputId": "21fdaa3a-ae29-4fff-a279-d39dbdae75a2"
   },
   "outputs": [],
   "source": [
    "alphas = [0, 0.2, 0.6, 0.8, 1]\n",
    "\n",
    "for a  in alphas:\n",
    "    # Define model\n",
    "    nb_model = MultinomialNB(alpha=a)\n",
    "\n",
    "    # Train and evaluate model\n",
    "    new_data = train_and_eval(model=nb_model,\n",
    "                   trainX=bow_X_train,\n",
    "                   trainY=y_train,\n",
    "                   testX=bow_X_test,\n",
    "                   testY=y_test)\n",
    "    new_data[\"Vectorization\"] = \"BOW\"\n",
    "    new_data[\"Algorithm\"] = \"MultinomialNB\"\n",
    "    data = data._append(new_data, ignore_index=True)\n",
    "\n",
    "for a  in alphas:\n",
    "    # Define model\n",
    "    nb_model = MultinomialNB(alpha=a)\n",
    "\n",
    "    # Train and evaluate model\n",
    "    new_data = train_and_eval(model=nb_model,\n",
    "                   trainX=tfidf_X_train,\n",
    "                   trainY=y_train,\n",
    "                   testX=tfidf_X_test,\n",
    "                   testY=y_test)\n",
    "    new_data[\"Vectorization\"] = \"TF-IDF\"\n",
    "    new_data[\"Algorithm\"] = \"MultinomialNB\"\n",
    "    data = data._append(new_data, ignore_index=True)\n"
   ]
  },
  {
   "cell_type": "markdown",
   "metadata": {},
   "source": [
    "### iv . K - Nearest Neighbours Model ( BOW, TF-IDF )"
   ]
  },
  {
   "cell_type": "code",
   "execution_count": 292,
   "metadata": {
    "id": "V53nr3k3Flj-"
   },
   "outputs": [],
   "source": [
    "neighbours = [5,10,15,20,25,30]\n",
    "\n",
    "for n  in neighbours:\n",
    "    # Define model\n",
    "    knn_model = KNeighborsClassifier(n_neighbors=n)\n",
    "\n",
    "    # Train and evaluate model\n",
    "    new_data = train_and_eval(model=knn_model,\n",
    "                   trainX=tfidf_X_train,\n",
    "                   trainY=y_train,\n",
    "                   testX=tfidf_X_test,\n",
    "                   testY=y_test)\n",
    "    new_data[\"Vectorization\"] = \"TF-IDF\"\n",
    "    new_data[\"Algorithm\"] = \"KNeighborsClassifier\"\n",
    "    data = data._append(new_data, ignore_index=True)\n",
    "\n",
    "for n  in neighbours:\n",
    "    # Define model\n",
    "    knn_model = KNeighborsClassifier(n_neighbors=n)\n",
    "\n",
    "    # Train and evaluate model\n",
    "    new_data = train_and_eval(model=knn_model,\n",
    "                   trainX=bow_X_train,\n",
    "                   trainY=y_train,\n",
    "                   testX=bow_X_test,\n",
    "                   testY=y_test)\n",
    "    new_data[\"Vectorization\"] = \"BOW\" \n",
    "    new_data[\"Algorithm\"] = \"KNeighborsClassifier\"\n",
    "    data = data._append(new_data, ignore_index=True)"
   ]
  },
  {
   "cell_type": "code",
   "execution_count": 293,
   "metadata": {
    "colab": {
     "base_uri": "https://localhost:8080/"
    },
    "executionInfo": {
     "elapsed": 11,
     "status": "ok",
     "timestamp": 1728567218061,
     "user": {
      "displayName": "Roger Arnold",
      "userId": "09812673021537292555"
     },
     "user_tz": -330
    },
    "id": "wy_Ba3XOsZvM",
    "outputId": "1a6d0b77-b90f-4ecf-b148-167271fdb723"
   },
   "outputs": [
    {
     "data": {
      "text/plain": [
       "(32, 5)"
      ]
     },
     "execution_count": 293,
     "metadata": {},
     "output_type": "execute_result"
    }
   ],
   "source": [
    "data.shape"
   ]
  },
  {
   "cell_type": "code",
   "execution_count": 294,
   "metadata": {
    "id": "tn47udVsvtOA"
   },
   "outputs": [],
   "source": [
    "data[\"Score_difference\"] = abs(data[\"Test_accuracy_score\"] - data[\"Train_accuracy_score\"])"
   ]
  },
  {
   "cell_type": "code",
   "execution_count": 295,
   "metadata": {
    "id": "64SQRDB0v8x2"
   },
   "outputs": [],
   "source": [
    "data.sort_values(by=\"Test_accuracy_score\", ascending=False,inplace=True)"
   ]
  },
  {
   "cell_type": "markdown",
   "metadata": {
    "id": "0K7bMPP_m7mc"
   },
   "source": [
    "# \"Logistic Regression has the highest average test accuracy with very less overfitting\""
   ]
  },
  {
   "cell_type": "code",
   "execution_count": 296,
   "metadata": {
    "id": "hLri-ILCmvvG"
   },
   "outputs": [
    {
     "data": {
      "text/html": [
       "<div>\n",
       "<style scoped>\n",
       "    .dataframe tbody tr th:only-of-type {\n",
       "        vertical-align: middle;\n",
       "    }\n",
       "\n",
       "    .dataframe tbody tr th {\n",
       "        vertical-align: top;\n",
       "    }\n",
       "\n",
       "    .dataframe thead th {\n",
       "        text-align: right;\n",
       "    }\n",
       "</style>\n",
       "<table border=\"1\" class=\"dataframe\">\n",
       "  <thead>\n",
       "    <tr style=\"text-align: right;\">\n",
       "      <th></th>\n",
       "      <th>Model</th>\n",
       "      <th>Train_accuracy_score</th>\n",
       "      <th>Test_accuracy_score</th>\n",
       "      <th>Vectorization</th>\n",
       "      <th>Algorithm</th>\n",
       "      <th>Score_difference</th>\n",
       "    </tr>\n",
       "  </thead>\n",
       "  <tbody>\n",
       "    <tr>\n",
       "      <th>3</th>\n",
       "      <td>LogisticRegression(C=1, max_iter=500, random_s...</td>\n",
       "      <td>98.121</td>\n",
       "      <td>95.300</td>\n",
       "      <td>BOW</td>\n",
       "      <td>Logistic_Regression</td>\n",
       "      <td>2.821</td>\n",
       "    </tr>\n",
       "    <tr>\n",
       "      <th>4</th>\n",
       "      <td>LogisticRegression(C=10, max_iter=500, random_...</td>\n",
       "      <td>99.329</td>\n",
       "      <td>95.117</td>\n",
       "      <td>BOW</td>\n",
       "      <td>Logistic_Regression</td>\n",
       "      <td>4.212</td>\n",
       "    </tr>\n",
       "    <tr>\n",
       "      <th>9</th>\n",
       "      <td>LogisticRegression(C=10, max_iter=500, random_...</td>\n",
       "      <td>98.400</td>\n",
       "      <td>94.767</td>\n",
       "      <td>TF-IDF</td>\n",
       "      <td>Logistic_Regression</td>\n",
       "      <td>3.633</td>\n",
       "    </tr>\n",
       "    <tr>\n",
       "      <th>2</th>\n",
       "      <td>LogisticRegression(C=0.1, max_iter=500, random...</td>\n",
       "      <td>94.133</td>\n",
       "      <td>92.633</td>\n",
       "      <td>BOW</td>\n",
       "      <td>Logistic_Regression</td>\n",
       "      <td>1.500</td>\n",
       "    </tr>\n",
       "    <tr>\n",
       "      <th>8</th>\n",
       "      <td>LogisticRegression(C=1, max_iter=500, random_s...</td>\n",
       "      <td>93.325</td>\n",
       "      <td>92.033</td>\n",
       "      <td>TF-IDF</td>\n",
       "      <td>Logistic_Regression</td>\n",
       "      <td>1.292</td>\n",
       "    </tr>\n",
       "  </tbody>\n",
       "</table>\n",
       "</div>"
      ],
      "text/plain": [
       "                                               Model  Train_accuracy_score  \\\n",
       "3  LogisticRegression(C=1, max_iter=500, random_s...                98.121   \n",
       "4  LogisticRegression(C=10, max_iter=500, random_...                99.329   \n",
       "9  LogisticRegression(C=10, max_iter=500, random_...                98.400   \n",
       "2  LogisticRegression(C=0.1, max_iter=500, random...                94.133   \n",
       "8  LogisticRegression(C=1, max_iter=500, random_s...                93.325   \n",
       "\n",
       "   Test_accuracy_score Vectorization            Algorithm  Score_difference  \n",
       "3               95.300           BOW  Logistic_Regression             2.821  \n",
       "4               95.117           BOW  Logistic_Regression             4.212  \n",
       "9               94.767        TF-IDF  Logistic_Regression             3.633  \n",
       "2               92.633           BOW  Logistic_Regression             1.500  \n",
       "8               92.033        TF-IDF  Logistic_Regression             1.292  "
      ]
     },
     "execution_count": 296,
     "metadata": {},
     "output_type": "execute_result"
    }
   ],
   "source": [
    "data.head(5)"
   ]
  },
  {
   "cell_type": "code",
   "execution_count": 297,
   "metadata": {
    "colab": {
     "base_uri": "https://localhost:8080/",
     "height": 178
    },
    "executionInfo": {
     "elapsed": 418,
     "status": "ok",
     "timestamp": 1728567365907,
     "user": {
      "displayName": "Roger Arnold",
      "userId": "09812673021537292555"
     },
     "user_tz": -330
    },
    "id": "vJt120X2nCnO",
    "outputId": "21bcb8d1-441e-4454-8266-05c1dc410d57"
   },
   "outputs": [
    {
     "data": {
      "text/plain": [
       "Algorithm\n",
       "KNeighborsClassifier    78.9860\n",
       "Logistic_Regression     91.4365\n",
       "MultinomialNB           89.1449\n",
       "Name: Test_accuracy_score, dtype: float64"
      ]
     },
     "execution_count": 297,
     "metadata": {},
     "output_type": "execute_result"
    }
   ],
   "source": [
    "data.groupby([\"Algorithm\"])[\"Test_accuracy_score\"].mean()"
   ]
  },
  {
   "cell_type": "code",
   "execution_count": 393,
   "metadata": {},
   "outputs": [],
   "source": [
    "best_model = data.head(1)"
   ]
  },
  {
   "cell_type": "markdown",
   "metadata": {},
   "source": [
    "###  Best Model"
   ]
  },
  {
   "cell_type": "code",
   "execution_count": 394,
   "metadata": {},
   "outputs": [
    {
     "data": {
      "text/html": [
       "<div>\n",
       "<style scoped>\n",
       "    .dataframe tbody tr th:only-of-type {\n",
       "        vertical-align: middle;\n",
       "    }\n",
       "\n",
       "    .dataframe tbody tr th {\n",
       "        vertical-align: top;\n",
       "    }\n",
       "\n",
       "    .dataframe thead th {\n",
       "        text-align: right;\n",
       "    }\n",
       "</style>\n",
       "<table border=\"1\" class=\"dataframe\">\n",
       "  <thead>\n",
       "    <tr style=\"text-align: right;\">\n",
       "      <th></th>\n",
       "      <th>Model</th>\n",
       "      <th>Train_accuracy_score</th>\n",
       "      <th>Test_accuracy_score</th>\n",
       "      <th>Vectorization</th>\n",
       "      <th>Algorithm</th>\n",
       "      <th>Score_difference</th>\n",
       "    </tr>\n",
       "  </thead>\n",
       "  <tbody>\n",
       "    <tr>\n",
       "      <th>3</th>\n",
       "      <td>LogisticRegression(C=1, max_iter=500, random_s...</td>\n",
       "      <td>98.121</td>\n",
       "      <td>95.3</td>\n",
       "      <td>BOW</td>\n",
       "      <td>Logistic_Regression</td>\n",
       "      <td>2.821</td>\n",
       "    </tr>\n",
       "  </tbody>\n",
       "</table>\n",
       "</div>"
      ],
      "text/plain": [
       "                                               Model  Train_accuracy_score  \\\n",
       "3  LogisticRegression(C=1, max_iter=500, random_s...                98.121   \n",
       "\n",
       "   Test_accuracy_score Vectorization            Algorithm  Score_difference  \n",
       "3                 95.3           BOW  Logistic_Regression             2.821  "
      ]
     },
     "execution_count": 394,
     "metadata": {},
     "output_type": "execute_result"
    }
   ],
   "source": [
    "best_model"
   ]
  },
  {
   "cell_type": "markdown",
   "metadata": {
    "id": "EYIAp_a80cj8"
   },
   "source": [
    "# 12. Building Recommendation system"
   ]
  },
  {
   "cell_type": "markdown",
   "metadata": {
    "id": "5xqvp5LJ7yty"
   },
   "source": [
    "### Constructing Pivot table"
   ]
  },
  {
   "cell_type": "code",
   "execution_count": 298,
   "metadata": {
    "executionInfo": {
     "elapsed": 9,
     "status": "ok",
     "timestamp": 1728893024809,
     "user": {
      "displayName": "Roger Arnold",
      "userId": "09812673021537292555"
     },
     "user_tz": -330
    },
    "id": "cfkCPU9A1_LK"
   },
   "outputs": [],
   "source": [
    "# Copy the train dataset into dummy_train\n",
    "dummy_train = df.copy()"
   ]
  },
  {
   "cell_type": "code",
   "execution_count": 299,
   "metadata": {
    "executionInfo": {
     "elapsed": 8,
     "status": "ok",
     "timestamp": 1728893024809,
     "user": {
      "displayName": "Roger Arnold",
      "userId": "09812673021537292555"
     },
     "user_tz": -330
    },
    "id": "26moHYjn2XSK"
   },
   "outputs": [],
   "source": [
    "# The products not rated by user is marked as 1 for prediction.\n",
    "dummy_train['reviews_rating'] = dummy_train['reviews_rating'].apply(lambda x: 0 if x>=1 else 1)"
   ]
  },
  {
   "cell_type": "code",
   "execution_count": 300,
   "metadata": {
    "executionInfo": {
     "elapsed": 518,
     "status": "ok",
     "timestamp": 1728893025320,
     "user": {
      "displayName": "Roger Arnold",
      "userId": "09812673021537292555"
     },
     "user_tz": -330
    },
    "id": "HidGob1N29QB"
   },
   "outputs": [],
   "source": [
    "# Convert the dummy train dataset into matrix format.\n",
    "dummy_train = dummy_train.pivot_table(index=['reviews_username'], columns=['id'], values='reviews_rating')\n",
    "dummy_train.fillna(1, inplace=True)"
   ]
  },
  {
   "cell_type": "markdown",
   "metadata": {},
   "source": [
    "### Train and test split for reviews_rating"
   ]
  },
  {
   "cell_type": "code",
   "execution_count": 301,
   "metadata": {},
   "outputs": [],
   "source": [
    "# Test and Train split of the dataset.\n",
    "from sklearn.model_selection import train_test_split\n",
    "train, test = train_test_split(df, test_size=0.30, random_state=31)"
   ]
  },
  {
   "cell_type": "code",
   "execution_count": 302,
   "metadata": {},
   "outputs": [
    {
     "name": "stdout",
     "output_type": "stream",
     "text": [
      "(21000, 15)\n",
      "(9000, 15)\n"
     ]
    }
   ],
   "source": [
    "print(train.shape)\n",
    "print(test.shape)"
   ]
  },
  {
   "cell_type": "code",
   "execution_count": 303,
   "metadata": {},
   "outputs": [],
   "source": [
    "df_pivot = train.pivot_table(index=['reviews_username'], columns=['id'], values='reviews_rating')\n",
    "df_pivot.fillna(0, inplace=True)"
   ]
  },
  {
   "cell_type": "code",
   "execution_count": 304,
   "metadata": {
    "scrolled": true
   },
   "outputs": [
    {
     "data": {
      "text/plain": [
       "(18252, 252)"
      ]
     },
     "execution_count": 304,
     "metadata": {},
     "output_type": "execute_result"
    }
   ],
   "source": [
    "df_pivot.shape"
   ]
  },
  {
   "cell_type": "markdown",
   "metadata": {},
   "source": [
    "###  Creating dummy train & dummy test dataset"
   ]
  },
  {
   "cell_type": "code",
   "execution_count": 305,
   "metadata": {},
   "outputs": [],
   "source": [
    "# Copy the train dataset into dummy_train\n",
    "dummy_train = train.copy()"
   ]
  },
  {
   "cell_type": "code",
   "execution_count": 306,
   "metadata": {},
   "outputs": [],
   "source": [
    "# The movies not rated by user is marked as 1 for prediction.\n",
    "dummy_train['reviews_rating'] = dummy_train['reviews_rating'].apply(lambda x: 0 if x>=1 else 1)"
   ]
  },
  {
   "cell_type": "code",
   "execution_count": 307,
   "metadata": {},
   "outputs": [],
   "source": [
    "# Convert the dummy train dataset into matrix format.\n",
    "# dummy_train = dummy_train.pivot(\n",
    "#     index='reviews_username',\n",
    "#     columns='movieId',\n",
    "#     values='rating'\n",
    "# ).fillna(1)\n",
    "dummy_train = dummy_train.pivot_table(index=['reviews_username'], columns=['id'], values='reviews_rating')\n",
    "dummy_train.fillna(1, inplace=True)"
   ]
  },
  {
   "cell_type": "code",
   "execution_count": 308,
   "metadata": {},
   "outputs": [
    {
     "data": {
      "text/html": [
       "<div>\n",
       "<style scoped>\n",
       "    .dataframe tbody tr th:only-of-type {\n",
       "        vertical-align: middle;\n",
       "    }\n",
       "\n",
       "    .dataframe tbody tr th {\n",
       "        vertical-align: top;\n",
       "    }\n",
       "\n",
       "    .dataframe thead th {\n",
       "        text-align: right;\n",
       "    }\n",
       "</style>\n",
       "<table border=\"1\" class=\"dataframe\">\n",
       "  <thead>\n",
       "    <tr style=\"text-align: right;\">\n",
       "      <th>id</th>\n",
       "      <th>AV13O1A8GV-KLJ3akUyj</th>\n",
       "      <th>AV14LG0R-jtxr-f38QfS</th>\n",
       "      <th>AV16khLE-jtxr-f38VFn</th>\n",
       "      <th>AV1YGDqsGV-KLJ3adc-O</th>\n",
       "      <th>AV1YIch7GV-KLJ3addeG</th>\n",
       "      <th>AV1YlENIglJLPUi8IHsX</th>\n",
       "      <th>AV1YmBrdGV-KLJ3adewb</th>\n",
       "      <th>AV1YmDL9vKc47QAVgr7_</th>\n",
       "      <th>AV1Ymf_rglJLPUi8II2v</th>\n",
       "      <th>AV1Yn94nvKc47QAVgtst</th>\n",
       "      <th>...</th>\n",
       "      <th>AVpfr5cb1cnluZ0-pZFp</th>\n",
       "      <th>AVpfrFDZLJeJML43Bmv0</th>\n",
       "      <th>AVpfrTyiLJeJML43BrSI</th>\n",
       "      <th>AVpfrfHF1cnluZ0-pRai</th>\n",
       "      <th>AVpfrgjFLJeJML43BvCc</th>\n",
       "      <th>AVpfs0tUilAPnD_xgqN2</th>\n",
       "      <th>AVpfthSailAPnD_xg3ON</th>\n",
       "      <th>AVpftikC1cnluZ0-p31V</th>\n",
       "      <th>AVpfv4TlilAPnD_xhjNS</th>\n",
       "      <th>AVpfvieo1cnluZ0-qdnu</th>\n",
       "    </tr>\n",
       "    <tr>\n",
       "      <th>reviews_username</th>\n",
       "      <th></th>\n",
       "      <th></th>\n",
       "      <th></th>\n",
       "      <th></th>\n",
       "      <th></th>\n",
       "      <th></th>\n",
       "      <th></th>\n",
       "      <th></th>\n",
       "      <th></th>\n",
       "      <th></th>\n",
       "      <th></th>\n",
       "      <th></th>\n",
       "      <th></th>\n",
       "      <th></th>\n",
       "      <th></th>\n",
       "      <th></th>\n",
       "      <th></th>\n",
       "      <th></th>\n",
       "      <th></th>\n",
       "      <th></th>\n",
       "      <th></th>\n",
       "    </tr>\n",
       "  </thead>\n",
       "  <tbody>\n",
       "    <tr>\n",
       "      <th>00dog3</th>\n",
       "      <td>1.0</td>\n",
       "      <td>1.0</td>\n",
       "      <td>1.0</td>\n",
       "      <td>1.0</td>\n",
       "      <td>1.0</td>\n",
       "      <td>1.0</td>\n",
       "      <td>1.0</td>\n",
       "      <td>1.0</td>\n",
       "      <td>1.0</td>\n",
       "      <td>1.0</td>\n",
       "      <td>...</td>\n",
       "      <td>1.0</td>\n",
       "      <td>1.0</td>\n",
       "      <td>1.0</td>\n",
       "      <td>1.0</td>\n",
       "      <td>1.0</td>\n",
       "      <td>1.0</td>\n",
       "      <td>1.0</td>\n",
       "      <td>1.0</td>\n",
       "      <td>1.0</td>\n",
       "      <td>1.0</td>\n",
       "    </tr>\n",
       "    <tr>\n",
       "      <th>00sab00</th>\n",
       "      <td>1.0</td>\n",
       "      <td>1.0</td>\n",
       "      <td>1.0</td>\n",
       "      <td>1.0</td>\n",
       "      <td>1.0</td>\n",
       "      <td>1.0</td>\n",
       "      <td>1.0</td>\n",
       "      <td>1.0</td>\n",
       "      <td>1.0</td>\n",
       "      <td>1.0</td>\n",
       "      <td>...</td>\n",
       "      <td>1.0</td>\n",
       "      <td>1.0</td>\n",
       "      <td>1.0</td>\n",
       "      <td>1.0</td>\n",
       "      <td>1.0</td>\n",
       "      <td>1.0</td>\n",
       "      <td>1.0</td>\n",
       "      <td>1.0</td>\n",
       "      <td>1.0</td>\n",
       "      <td>1.0</td>\n",
       "    </tr>\n",
       "    <tr>\n",
       "      <th>01impala</th>\n",
       "      <td>1.0</td>\n",
       "      <td>1.0</td>\n",
       "      <td>1.0</td>\n",
       "      <td>1.0</td>\n",
       "      <td>1.0</td>\n",
       "      <td>1.0</td>\n",
       "      <td>1.0</td>\n",
       "      <td>1.0</td>\n",
       "      <td>1.0</td>\n",
       "      <td>1.0</td>\n",
       "      <td>...</td>\n",
       "      <td>1.0</td>\n",
       "      <td>1.0</td>\n",
       "      <td>1.0</td>\n",
       "      <td>1.0</td>\n",
       "      <td>1.0</td>\n",
       "      <td>1.0</td>\n",
       "      <td>1.0</td>\n",
       "      <td>1.0</td>\n",
       "      <td>1.0</td>\n",
       "      <td>1.0</td>\n",
       "    </tr>\n",
       "    <tr>\n",
       "      <th>0325home</th>\n",
       "      <td>1.0</td>\n",
       "      <td>1.0</td>\n",
       "      <td>1.0</td>\n",
       "      <td>1.0</td>\n",
       "      <td>1.0</td>\n",
       "      <td>1.0</td>\n",
       "      <td>1.0</td>\n",
       "      <td>1.0</td>\n",
       "      <td>1.0</td>\n",
       "      <td>1.0</td>\n",
       "      <td>...</td>\n",
       "      <td>1.0</td>\n",
       "      <td>1.0</td>\n",
       "      <td>1.0</td>\n",
       "      <td>1.0</td>\n",
       "      <td>1.0</td>\n",
       "      <td>1.0</td>\n",
       "      <td>1.0</td>\n",
       "      <td>1.0</td>\n",
       "      <td>1.0</td>\n",
       "      <td>1.0</td>\n",
       "    </tr>\n",
       "    <tr>\n",
       "      <th>06stidriver</th>\n",
       "      <td>1.0</td>\n",
       "      <td>1.0</td>\n",
       "      <td>1.0</td>\n",
       "      <td>1.0</td>\n",
       "      <td>1.0</td>\n",
       "      <td>1.0</td>\n",
       "      <td>1.0</td>\n",
       "      <td>1.0</td>\n",
       "      <td>1.0</td>\n",
       "      <td>1.0</td>\n",
       "      <td>...</td>\n",
       "      <td>1.0</td>\n",
       "      <td>1.0</td>\n",
       "      <td>1.0</td>\n",
       "      <td>1.0</td>\n",
       "      <td>1.0</td>\n",
       "      <td>1.0</td>\n",
       "      <td>1.0</td>\n",
       "      <td>1.0</td>\n",
       "      <td>1.0</td>\n",
       "      <td>1.0</td>\n",
       "    </tr>\n",
       "  </tbody>\n",
       "</table>\n",
       "<p>5 rows × 252 columns</p>\n",
       "</div>"
      ],
      "text/plain": [
       "id                AV13O1A8GV-KLJ3akUyj  AV14LG0R-jtxr-f38QfS  \\\n",
       "reviews_username                                               \n",
       "00dog3                             1.0                   1.0   \n",
       "00sab00                            1.0                   1.0   \n",
       "01impala                           1.0                   1.0   \n",
       "0325home                           1.0                   1.0   \n",
       "06stidriver                        1.0                   1.0   \n",
       "\n",
       "id                AV16khLE-jtxr-f38VFn  AV1YGDqsGV-KLJ3adc-O  \\\n",
       "reviews_username                                               \n",
       "00dog3                             1.0                   1.0   \n",
       "00sab00                            1.0                   1.0   \n",
       "01impala                           1.0                   1.0   \n",
       "0325home                           1.0                   1.0   \n",
       "06stidriver                        1.0                   1.0   \n",
       "\n",
       "id                AV1YIch7GV-KLJ3addeG  AV1YlENIglJLPUi8IHsX  \\\n",
       "reviews_username                                               \n",
       "00dog3                             1.0                   1.0   \n",
       "00sab00                            1.0                   1.0   \n",
       "01impala                           1.0                   1.0   \n",
       "0325home                           1.0                   1.0   \n",
       "06stidriver                        1.0                   1.0   \n",
       "\n",
       "id                AV1YmBrdGV-KLJ3adewb  AV1YmDL9vKc47QAVgr7_  \\\n",
       "reviews_username                                               \n",
       "00dog3                             1.0                   1.0   \n",
       "00sab00                            1.0                   1.0   \n",
       "01impala                           1.0                   1.0   \n",
       "0325home                           1.0                   1.0   \n",
       "06stidriver                        1.0                   1.0   \n",
       "\n",
       "id                AV1Ymf_rglJLPUi8II2v  AV1Yn94nvKc47QAVgtst  ...  \\\n",
       "reviews_username                                              ...   \n",
       "00dog3                             1.0                   1.0  ...   \n",
       "00sab00                            1.0                   1.0  ...   \n",
       "01impala                           1.0                   1.0  ...   \n",
       "0325home                           1.0                   1.0  ...   \n",
       "06stidriver                        1.0                   1.0  ...   \n",
       "\n",
       "id                AVpfr5cb1cnluZ0-pZFp  AVpfrFDZLJeJML43Bmv0  \\\n",
       "reviews_username                                               \n",
       "00dog3                             1.0                   1.0   \n",
       "00sab00                            1.0                   1.0   \n",
       "01impala                           1.0                   1.0   \n",
       "0325home                           1.0                   1.0   \n",
       "06stidriver                        1.0                   1.0   \n",
       "\n",
       "id                AVpfrTyiLJeJML43BrSI  AVpfrfHF1cnluZ0-pRai  \\\n",
       "reviews_username                                               \n",
       "00dog3                             1.0                   1.0   \n",
       "00sab00                            1.0                   1.0   \n",
       "01impala                           1.0                   1.0   \n",
       "0325home                           1.0                   1.0   \n",
       "06stidriver                        1.0                   1.0   \n",
       "\n",
       "id                AVpfrgjFLJeJML43BvCc  AVpfs0tUilAPnD_xgqN2  \\\n",
       "reviews_username                                               \n",
       "00dog3                             1.0                   1.0   \n",
       "00sab00                            1.0                   1.0   \n",
       "01impala                           1.0                   1.0   \n",
       "0325home                           1.0                   1.0   \n",
       "06stidriver                        1.0                   1.0   \n",
       "\n",
       "id                AVpfthSailAPnD_xg3ON  AVpftikC1cnluZ0-p31V  \\\n",
       "reviews_username                                               \n",
       "00dog3                             1.0                   1.0   \n",
       "00sab00                            1.0                   1.0   \n",
       "01impala                           1.0                   1.0   \n",
       "0325home                           1.0                   1.0   \n",
       "06stidriver                        1.0                   1.0   \n",
       "\n",
       "id                AVpfv4TlilAPnD_xhjNS  AVpfvieo1cnluZ0-qdnu  \n",
       "reviews_username                                              \n",
       "00dog3                             1.0                   1.0  \n",
       "00sab00                            1.0                   1.0  \n",
       "01impala                           1.0                   1.0  \n",
       "0325home                           1.0                   1.0  \n",
       "06stidriver                        1.0                   1.0  \n",
       "\n",
       "[5 rows x 252 columns]"
      ]
     },
     "execution_count": 308,
     "metadata": {},
     "output_type": "execute_result"
    }
   ],
   "source": [
    "dummy_train.head()"
   ]
  },
  {
   "cell_type": "markdown",
   "metadata": {
    "id": "UrugdntG73ea"
   },
   "source": [
    "### Using Adjusted Cosine similarity"
   ]
  },
  {
   "cell_type": "code",
   "execution_count": 309,
   "metadata": {},
   "outputs": [],
   "source": [
    "# Create a user-movie matrix.\n",
    "df_pivot = train.pivot_table(index=['reviews_username'], columns=['id'], values='reviews_rating')"
   ]
  },
  {
   "cell_type": "code",
   "execution_count": 310,
   "metadata": {},
   "outputs": [
    {
     "data": {
      "text/html": [
       "<div>\n",
       "<style scoped>\n",
       "    .dataframe tbody tr th:only-of-type {\n",
       "        vertical-align: middle;\n",
       "    }\n",
       "\n",
       "    .dataframe tbody tr th {\n",
       "        vertical-align: top;\n",
       "    }\n",
       "\n",
       "    .dataframe thead th {\n",
       "        text-align: right;\n",
       "    }\n",
       "</style>\n",
       "<table border=\"1\" class=\"dataframe\">\n",
       "  <thead>\n",
       "    <tr style=\"text-align: right;\">\n",
       "      <th>id</th>\n",
       "      <th>AV13O1A8GV-KLJ3akUyj</th>\n",
       "      <th>AV14LG0R-jtxr-f38QfS</th>\n",
       "      <th>AV16khLE-jtxr-f38VFn</th>\n",
       "      <th>AV1YGDqsGV-KLJ3adc-O</th>\n",
       "      <th>AV1YIch7GV-KLJ3addeG</th>\n",
       "      <th>AV1YlENIglJLPUi8IHsX</th>\n",
       "      <th>AV1YmBrdGV-KLJ3adewb</th>\n",
       "      <th>AV1YmDL9vKc47QAVgr7_</th>\n",
       "      <th>AV1Ymf_rglJLPUi8II2v</th>\n",
       "      <th>AV1Yn94nvKc47QAVgtst</th>\n",
       "      <th>...</th>\n",
       "      <th>AVpfr5cb1cnluZ0-pZFp</th>\n",
       "      <th>AVpfrFDZLJeJML43Bmv0</th>\n",
       "      <th>AVpfrTyiLJeJML43BrSI</th>\n",
       "      <th>AVpfrfHF1cnluZ0-pRai</th>\n",
       "      <th>AVpfrgjFLJeJML43BvCc</th>\n",
       "      <th>AVpfs0tUilAPnD_xgqN2</th>\n",
       "      <th>AVpfthSailAPnD_xg3ON</th>\n",
       "      <th>AVpftikC1cnluZ0-p31V</th>\n",
       "      <th>AVpfv4TlilAPnD_xhjNS</th>\n",
       "      <th>AVpfvieo1cnluZ0-qdnu</th>\n",
       "    </tr>\n",
       "    <tr>\n",
       "      <th>reviews_username</th>\n",
       "      <th></th>\n",
       "      <th></th>\n",
       "      <th></th>\n",
       "      <th></th>\n",
       "      <th></th>\n",
       "      <th></th>\n",
       "      <th></th>\n",
       "      <th></th>\n",
       "      <th></th>\n",
       "      <th></th>\n",
       "      <th></th>\n",
       "      <th></th>\n",
       "      <th></th>\n",
       "      <th></th>\n",
       "      <th></th>\n",
       "      <th></th>\n",
       "      <th></th>\n",
       "      <th></th>\n",
       "      <th></th>\n",
       "      <th></th>\n",
       "      <th></th>\n",
       "    </tr>\n",
       "  </thead>\n",
       "  <tbody>\n",
       "    <tr>\n",
       "      <th>00dog3</th>\n",
       "      <td>NaN</td>\n",
       "      <td>NaN</td>\n",
       "      <td>NaN</td>\n",
       "      <td>NaN</td>\n",
       "      <td>NaN</td>\n",
       "      <td>NaN</td>\n",
       "      <td>NaN</td>\n",
       "      <td>NaN</td>\n",
       "      <td>NaN</td>\n",
       "      <td>NaN</td>\n",
       "      <td>...</td>\n",
       "      <td>NaN</td>\n",
       "      <td>NaN</td>\n",
       "      <td>NaN</td>\n",
       "      <td>NaN</td>\n",
       "      <td>NaN</td>\n",
       "      <td>NaN</td>\n",
       "      <td>NaN</td>\n",
       "      <td>NaN</td>\n",
       "      <td>NaN</td>\n",
       "      <td>NaN</td>\n",
       "    </tr>\n",
       "    <tr>\n",
       "      <th>00sab00</th>\n",
       "      <td>NaN</td>\n",
       "      <td>NaN</td>\n",
       "      <td>NaN</td>\n",
       "      <td>NaN</td>\n",
       "      <td>NaN</td>\n",
       "      <td>NaN</td>\n",
       "      <td>NaN</td>\n",
       "      <td>NaN</td>\n",
       "      <td>NaN</td>\n",
       "      <td>NaN</td>\n",
       "      <td>...</td>\n",
       "      <td>NaN</td>\n",
       "      <td>NaN</td>\n",
       "      <td>NaN</td>\n",
       "      <td>NaN</td>\n",
       "      <td>NaN</td>\n",
       "      <td>NaN</td>\n",
       "      <td>NaN</td>\n",
       "      <td>NaN</td>\n",
       "      <td>NaN</td>\n",
       "      <td>NaN</td>\n",
       "    </tr>\n",
       "    <tr>\n",
       "      <th>01impala</th>\n",
       "      <td>NaN</td>\n",
       "      <td>NaN</td>\n",
       "      <td>NaN</td>\n",
       "      <td>NaN</td>\n",
       "      <td>NaN</td>\n",
       "      <td>NaN</td>\n",
       "      <td>NaN</td>\n",
       "      <td>NaN</td>\n",
       "      <td>NaN</td>\n",
       "      <td>NaN</td>\n",
       "      <td>...</td>\n",
       "      <td>NaN</td>\n",
       "      <td>NaN</td>\n",
       "      <td>NaN</td>\n",
       "      <td>NaN</td>\n",
       "      <td>NaN</td>\n",
       "      <td>NaN</td>\n",
       "      <td>NaN</td>\n",
       "      <td>NaN</td>\n",
       "      <td>NaN</td>\n",
       "      <td>NaN</td>\n",
       "    </tr>\n",
       "    <tr>\n",
       "      <th>0325home</th>\n",
       "      <td>NaN</td>\n",
       "      <td>NaN</td>\n",
       "      <td>NaN</td>\n",
       "      <td>NaN</td>\n",
       "      <td>NaN</td>\n",
       "      <td>NaN</td>\n",
       "      <td>NaN</td>\n",
       "      <td>NaN</td>\n",
       "      <td>NaN</td>\n",
       "      <td>NaN</td>\n",
       "      <td>...</td>\n",
       "      <td>NaN</td>\n",
       "      <td>NaN</td>\n",
       "      <td>NaN</td>\n",
       "      <td>NaN</td>\n",
       "      <td>NaN</td>\n",
       "      <td>NaN</td>\n",
       "      <td>NaN</td>\n",
       "      <td>NaN</td>\n",
       "      <td>NaN</td>\n",
       "      <td>NaN</td>\n",
       "    </tr>\n",
       "    <tr>\n",
       "      <th>06stidriver</th>\n",
       "      <td>NaN</td>\n",
       "      <td>NaN</td>\n",
       "      <td>NaN</td>\n",
       "      <td>NaN</td>\n",
       "      <td>NaN</td>\n",
       "      <td>NaN</td>\n",
       "      <td>NaN</td>\n",
       "      <td>NaN</td>\n",
       "      <td>NaN</td>\n",
       "      <td>NaN</td>\n",
       "      <td>...</td>\n",
       "      <td>NaN</td>\n",
       "      <td>NaN</td>\n",
       "      <td>NaN</td>\n",
       "      <td>NaN</td>\n",
       "      <td>NaN</td>\n",
       "      <td>NaN</td>\n",
       "      <td>NaN</td>\n",
       "      <td>NaN</td>\n",
       "      <td>NaN</td>\n",
       "      <td>NaN</td>\n",
       "    </tr>\n",
       "  </tbody>\n",
       "</table>\n",
       "<p>5 rows × 252 columns</p>\n",
       "</div>"
      ],
      "text/plain": [
       "id                AV13O1A8GV-KLJ3akUyj  AV14LG0R-jtxr-f38QfS  \\\n",
       "reviews_username                                               \n",
       "00dog3                             NaN                   NaN   \n",
       "00sab00                            NaN                   NaN   \n",
       "01impala                           NaN                   NaN   \n",
       "0325home                           NaN                   NaN   \n",
       "06stidriver                        NaN                   NaN   \n",
       "\n",
       "id                AV16khLE-jtxr-f38VFn  AV1YGDqsGV-KLJ3adc-O  \\\n",
       "reviews_username                                               \n",
       "00dog3                             NaN                   NaN   \n",
       "00sab00                            NaN                   NaN   \n",
       "01impala                           NaN                   NaN   \n",
       "0325home                           NaN                   NaN   \n",
       "06stidriver                        NaN                   NaN   \n",
       "\n",
       "id                AV1YIch7GV-KLJ3addeG  AV1YlENIglJLPUi8IHsX  \\\n",
       "reviews_username                                               \n",
       "00dog3                             NaN                   NaN   \n",
       "00sab00                            NaN                   NaN   \n",
       "01impala                           NaN                   NaN   \n",
       "0325home                           NaN                   NaN   \n",
       "06stidriver                        NaN                   NaN   \n",
       "\n",
       "id                AV1YmBrdGV-KLJ3adewb  AV1YmDL9vKc47QAVgr7_  \\\n",
       "reviews_username                                               \n",
       "00dog3                             NaN                   NaN   \n",
       "00sab00                            NaN                   NaN   \n",
       "01impala                           NaN                   NaN   \n",
       "0325home                           NaN                   NaN   \n",
       "06stidriver                        NaN                   NaN   \n",
       "\n",
       "id                AV1Ymf_rglJLPUi8II2v  AV1Yn94nvKc47QAVgtst  ...  \\\n",
       "reviews_username                                              ...   \n",
       "00dog3                             NaN                   NaN  ...   \n",
       "00sab00                            NaN                   NaN  ...   \n",
       "01impala                           NaN                   NaN  ...   \n",
       "0325home                           NaN                   NaN  ...   \n",
       "06stidriver                        NaN                   NaN  ...   \n",
       "\n",
       "id                AVpfr5cb1cnluZ0-pZFp  AVpfrFDZLJeJML43Bmv0  \\\n",
       "reviews_username                                               \n",
       "00dog3                             NaN                   NaN   \n",
       "00sab00                            NaN                   NaN   \n",
       "01impala                           NaN                   NaN   \n",
       "0325home                           NaN                   NaN   \n",
       "06stidriver                        NaN                   NaN   \n",
       "\n",
       "id                AVpfrTyiLJeJML43BrSI  AVpfrfHF1cnluZ0-pRai  \\\n",
       "reviews_username                                               \n",
       "00dog3                             NaN                   NaN   \n",
       "00sab00                            NaN                   NaN   \n",
       "01impala                           NaN                   NaN   \n",
       "0325home                           NaN                   NaN   \n",
       "06stidriver                        NaN                   NaN   \n",
       "\n",
       "id                AVpfrgjFLJeJML43BvCc  AVpfs0tUilAPnD_xgqN2  \\\n",
       "reviews_username                                               \n",
       "00dog3                             NaN                   NaN   \n",
       "00sab00                            NaN                   NaN   \n",
       "01impala                           NaN                   NaN   \n",
       "0325home                           NaN                   NaN   \n",
       "06stidriver                        NaN                   NaN   \n",
       "\n",
       "id                AVpfthSailAPnD_xg3ON  AVpftikC1cnluZ0-p31V  \\\n",
       "reviews_username                                               \n",
       "00dog3                             NaN                   NaN   \n",
       "00sab00                            NaN                   NaN   \n",
       "01impala                           NaN                   NaN   \n",
       "0325home                           NaN                   NaN   \n",
       "06stidriver                        NaN                   NaN   \n",
       "\n",
       "id                AVpfv4TlilAPnD_xhjNS  AVpfvieo1cnluZ0-qdnu  \n",
       "reviews_username                                              \n",
       "00dog3                             NaN                   NaN  \n",
       "00sab00                            NaN                   NaN  \n",
       "01impala                           NaN                   NaN  \n",
       "0325home                           NaN                   NaN  \n",
       "06stidriver                        NaN                   NaN  \n",
       "\n",
       "[5 rows x 252 columns]"
      ]
     },
     "execution_count": 310,
     "metadata": {},
     "output_type": "execute_result"
    }
   ],
   "source": [
    "df_pivot.head()"
   ]
  },
  {
   "cell_type": "markdown",
   "metadata": {},
   "source": [
    "### Normalising the rating of the movie for each user around 0 mean"
   ]
  },
  {
   "cell_type": "code",
   "execution_count": 311,
   "metadata": {
    "colab": {
     "base_uri": "https://localhost:8080/"
    },
    "executionInfo": {
     "elapsed": 24285,
     "status": "ok",
     "timestamp": 1728893049600,
     "user": {
      "displayName": "Roger Arnold",
      "userId": "09812673021537292555"
     },
     "user_tz": -330
    },
    "id": "fI2z2ybt3ZlH",
    "outputId": "695a473f-c97e-4b01-d3a9-6eb4abbfbb74"
   },
   "outputs": [],
   "source": [
    "mean = np.nanmean(df_pivot, axis=1)\n",
    "df_subtracted = (df_pivot.T-mean).T"
   ]
  },
  {
   "cell_type": "code",
   "execution_count": 312,
   "metadata": {
    "colab": {
     "base_uri": "https://localhost:8080/"
    },
    "executionInfo": {
     "elapsed": 20,
     "status": "ok",
     "timestamp": 1728893049601,
     "user": {
      "displayName": "Roger Arnold",
      "userId": "09812673021537292555"
     },
     "user_tz": -330
    },
    "id": "s2tbr3U08MeA",
    "outputId": "d2bacd6d-9a07-4274-fcbb-b04d25c50752"
   },
   "outputs": [
    {
     "data": {
      "text/html": [
       "<div>\n",
       "<style scoped>\n",
       "    .dataframe tbody tr th:only-of-type {\n",
       "        vertical-align: middle;\n",
       "    }\n",
       "\n",
       "    .dataframe tbody tr th {\n",
       "        vertical-align: top;\n",
       "    }\n",
       "\n",
       "    .dataframe thead th {\n",
       "        text-align: right;\n",
       "    }\n",
       "</style>\n",
       "<table border=\"1\" class=\"dataframe\">\n",
       "  <thead>\n",
       "    <tr style=\"text-align: right;\">\n",
       "      <th>id</th>\n",
       "      <th>AV13O1A8GV-KLJ3akUyj</th>\n",
       "      <th>AV14LG0R-jtxr-f38QfS</th>\n",
       "      <th>AV16khLE-jtxr-f38VFn</th>\n",
       "      <th>AV1YGDqsGV-KLJ3adc-O</th>\n",
       "      <th>AV1YIch7GV-KLJ3addeG</th>\n",
       "      <th>AV1YlENIglJLPUi8IHsX</th>\n",
       "      <th>AV1YmBrdGV-KLJ3adewb</th>\n",
       "      <th>AV1YmDL9vKc47QAVgr7_</th>\n",
       "      <th>AV1Ymf_rglJLPUi8II2v</th>\n",
       "      <th>AV1Yn94nvKc47QAVgtst</th>\n",
       "      <th>...</th>\n",
       "      <th>AVpfr5cb1cnluZ0-pZFp</th>\n",
       "      <th>AVpfrFDZLJeJML43Bmv0</th>\n",
       "      <th>AVpfrTyiLJeJML43BrSI</th>\n",
       "      <th>AVpfrfHF1cnluZ0-pRai</th>\n",
       "      <th>AVpfrgjFLJeJML43BvCc</th>\n",
       "      <th>AVpfs0tUilAPnD_xgqN2</th>\n",
       "      <th>AVpfthSailAPnD_xg3ON</th>\n",
       "      <th>AVpftikC1cnluZ0-p31V</th>\n",
       "      <th>AVpfv4TlilAPnD_xhjNS</th>\n",
       "      <th>AVpfvieo1cnluZ0-qdnu</th>\n",
       "    </tr>\n",
       "    <tr>\n",
       "      <th>reviews_username</th>\n",
       "      <th></th>\n",
       "      <th></th>\n",
       "      <th></th>\n",
       "      <th></th>\n",
       "      <th></th>\n",
       "      <th></th>\n",
       "      <th></th>\n",
       "      <th></th>\n",
       "      <th></th>\n",
       "      <th></th>\n",
       "      <th></th>\n",
       "      <th></th>\n",
       "      <th></th>\n",
       "      <th></th>\n",
       "      <th></th>\n",
       "      <th></th>\n",
       "      <th></th>\n",
       "      <th></th>\n",
       "      <th></th>\n",
       "      <th></th>\n",
       "      <th></th>\n",
       "    </tr>\n",
       "  </thead>\n",
       "  <tbody>\n",
       "    <tr>\n",
       "      <th>00dog3</th>\n",
       "      <td>NaN</td>\n",
       "      <td>NaN</td>\n",
       "      <td>NaN</td>\n",
       "      <td>NaN</td>\n",
       "      <td>NaN</td>\n",
       "      <td>NaN</td>\n",
       "      <td>NaN</td>\n",
       "      <td>NaN</td>\n",
       "      <td>NaN</td>\n",
       "      <td>NaN</td>\n",
       "      <td>...</td>\n",
       "      <td>NaN</td>\n",
       "      <td>NaN</td>\n",
       "      <td>NaN</td>\n",
       "      <td>NaN</td>\n",
       "      <td>NaN</td>\n",
       "      <td>NaN</td>\n",
       "      <td>NaN</td>\n",
       "      <td>NaN</td>\n",
       "      <td>NaN</td>\n",
       "      <td>NaN</td>\n",
       "    </tr>\n",
       "    <tr>\n",
       "      <th>00sab00</th>\n",
       "      <td>NaN</td>\n",
       "      <td>NaN</td>\n",
       "      <td>NaN</td>\n",
       "      <td>NaN</td>\n",
       "      <td>NaN</td>\n",
       "      <td>NaN</td>\n",
       "      <td>NaN</td>\n",
       "      <td>NaN</td>\n",
       "      <td>NaN</td>\n",
       "      <td>NaN</td>\n",
       "      <td>...</td>\n",
       "      <td>NaN</td>\n",
       "      <td>NaN</td>\n",
       "      <td>NaN</td>\n",
       "      <td>NaN</td>\n",
       "      <td>NaN</td>\n",
       "      <td>NaN</td>\n",
       "      <td>NaN</td>\n",
       "      <td>NaN</td>\n",
       "      <td>NaN</td>\n",
       "      <td>NaN</td>\n",
       "    </tr>\n",
       "    <tr>\n",
       "      <th>01impala</th>\n",
       "      <td>NaN</td>\n",
       "      <td>NaN</td>\n",
       "      <td>NaN</td>\n",
       "      <td>NaN</td>\n",
       "      <td>NaN</td>\n",
       "      <td>NaN</td>\n",
       "      <td>NaN</td>\n",
       "      <td>NaN</td>\n",
       "      <td>NaN</td>\n",
       "      <td>NaN</td>\n",
       "      <td>...</td>\n",
       "      <td>NaN</td>\n",
       "      <td>NaN</td>\n",
       "      <td>NaN</td>\n",
       "      <td>NaN</td>\n",
       "      <td>NaN</td>\n",
       "      <td>NaN</td>\n",
       "      <td>NaN</td>\n",
       "      <td>NaN</td>\n",
       "      <td>NaN</td>\n",
       "      <td>NaN</td>\n",
       "    </tr>\n",
       "    <tr>\n",
       "      <th>0325home</th>\n",
       "      <td>NaN</td>\n",
       "      <td>NaN</td>\n",
       "      <td>NaN</td>\n",
       "      <td>NaN</td>\n",
       "      <td>NaN</td>\n",
       "      <td>NaN</td>\n",
       "      <td>NaN</td>\n",
       "      <td>NaN</td>\n",
       "      <td>NaN</td>\n",
       "      <td>NaN</td>\n",
       "      <td>...</td>\n",
       "      <td>NaN</td>\n",
       "      <td>NaN</td>\n",
       "      <td>NaN</td>\n",
       "      <td>NaN</td>\n",
       "      <td>NaN</td>\n",
       "      <td>NaN</td>\n",
       "      <td>NaN</td>\n",
       "      <td>NaN</td>\n",
       "      <td>NaN</td>\n",
       "      <td>NaN</td>\n",
       "    </tr>\n",
       "    <tr>\n",
       "      <th>06stidriver</th>\n",
       "      <td>NaN</td>\n",
       "      <td>NaN</td>\n",
       "      <td>NaN</td>\n",
       "      <td>NaN</td>\n",
       "      <td>NaN</td>\n",
       "      <td>NaN</td>\n",
       "      <td>NaN</td>\n",
       "      <td>NaN</td>\n",
       "      <td>NaN</td>\n",
       "      <td>NaN</td>\n",
       "      <td>...</td>\n",
       "      <td>NaN</td>\n",
       "      <td>NaN</td>\n",
       "      <td>NaN</td>\n",
       "      <td>NaN</td>\n",
       "      <td>NaN</td>\n",
       "      <td>NaN</td>\n",
       "      <td>NaN</td>\n",
       "      <td>NaN</td>\n",
       "      <td>NaN</td>\n",
       "      <td>NaN</td>\n",
       "    </tr>\n",
       "  </tbody>\n",
       "</table>\n",
       "<p>5 rows × 252 columns</p>\n",
       "</div>"
      ],
      "text/plain": [
       "id                AV13O1A8GV-KLJ3akUyj  AV14LG0R-jtxr-f38QfS  \\\n",
       "reviews_username                                               \n",
       "00dog3                             NaN                   NaN   \n",
       "00sab00                            NaN                   NaN   \n",
       "01impala                           NaN                   NaN   \n",
       "0325home                           NaN                   NaN   \n",
       "06stidriver                        NaN                   NaN   \n",
       "\n",
       "id                AV16khLE-jtxr-f38VFn  AV1YGDqsGV-KLJ3adc-O  \\\n",
       "reviews_username                                               \n",
       "00dog3                             NaN                   NaN   \n",
       "00sab00                            NaN                   NaN   \n",
       "01impala                           NaN                   NaN   \n",
       "0325home                           NaN                   NaN   \n",
       "06stidriver                        NaN                   NaN   \n",
       "\n",
       "id                AV1YIch7GV-KLJ3addeG  AV1YlENIglJLPUi8IHsX  \\\n",
       "reviews_username                                               \n",
       "00dog3                             NaN                   NaN   \n",
       "00sab00                            NaN                   NaN   \n",
       "01impala                           NaN                   NaN   \n",
       "0325home                           NaN                   NaN   \n",
       "06stidriver                        NaN                   NaN   \n",
       "\n",
       "id                AV1YmBrdGV-KLJ3adewb  AV1YmDL9vKc47QAVgr7_  \\\n",
       "reviews_username                                               \n",
       "00dog3                             NaN                   NaN   \n",
       "00sab00                            NaN                   NaN   \n",
       "01impala                           NaN                   NaN   \n",
       "0325home                           NaN                   NaN   \n",
       "06stidriver                        NaN                   NaN   \n",
       "\n",
       "id                AV1Ymf_rglJLPUi8II2v  AV1Yn94nvKc47QAVgtst  ...  \\\n",
       "reviews_username                                              ...   \n",
       "00dog3                             NaN                   NaN  ...   \n",
       "00sab00                            NaN                   NaN  ...   \n",
       "01impala                           NaN                   NaN  ...   \n",
       "0325home                           NaN                   NaN  ...   \n",
       "06stidriver                        NaN                   NaN  ...   \n",
       "\n",
       "id                AVpfr5cb1cnluZ0-pZFp  AVpfrFDZLJeJML43Bmv0  \\\n",
       "reviews_username                                               \n",
       "00dog3                             NaN                   NaN   \n",
       "00sab00                            NaN                   NaN   \n",
       "01impala                           NaN                   NaN   \n",
       "0325home                           NaN                   NaN   \n",
       "06stidriver                        NaN                   NaN   \n",
       "\n",
       "id                AVpfrTyiLJeJML43BrSI  AVpfrfHF1cnluZ0-pRai  \\\n",
       "reviews_username                                               \n",
       "00dog3                             NaN                   NaN   \n",
       "00sab00                            NaN                   NaN   \n",
       "01impala                           NaN                   NaN   \n",
       "0325home                           NaN                   NaN   \n",
       "06stidriver                        NaN                   NaN   \n",
       "\n",
       "id                AVpfrgjFLJeJML43BvCc  AVpfs0tUilAPnD_xgqN2  \\\n",
       "reviews_username                                               \n",
       "00dog3                             NaN                   NaN   \n",
       "00sab00                            NaN                   NaN   \n",
       "01impala                           NaN                   NaN   \n",
       "0325home                           NaN                   NaN   \n",
       "06stidriver                        NaN                   NaN   \n",
       "\n",
       "id                AVpfthSailAPnD_xg3ON  AVpftikC1cnluZ0-p31V  \\\n",
       "reviews_username                                               \n",
       "00dog3                             NaN                   NaN   \n",
       "00sab00                            NaN                   NaN   \n",
       "01impala                           NaN                   NaN   \n",
       "0325home                           NaN                   NaN   \n",
       "06stidriver                        NaN                   NaN   \n",
       "\n",
       "id                AVpfv4TlilAPnD_xhjNS  AVpfvieo1cnluZ0-qdnu  \n",
       "reviews_username                                              \n",
       "00dog3                             NaN                   NaN  \n",
       "00sab00                            NaN                   NaN  \n",
       "01impala                           NaN                   NaN  \n",
       "0325home                           NaN                   NaN  \n",
       "06stidriver                        NaN                   NaN  \n",
       "\n",
       "[5 rows x 252 columns]"
      ]
     },
     "execution_count": 312,
     "metadata": {},
     "output_type": "execute_result"
    }
   ],
   "source": [
    "df_subtracted.head()"
   ]
  },
  {
   "cell_type": "markdown",
   "metadata": {},
   "source": [
    "###  Finding Adjusted Cosine similarity"
   ]
  },
  {
   "cell_type": "code",
   "execution_count": 313,
   "metadata": {},
   "outputs": [],
   "source": [
    "from sklearn.metrics.pairwise import pairwise_distances"
   ]
  },
  {
   "cell_type": "code",
   "execution_count": 314,
   "metadata": {},
   "outputs": [
    {
     "name": "stdout",
     "output_type": "stream",
     "text": [
      "[[0. 0. 0. ... 0. 0. 0.]\n",
      " [0. 0. 0. ... 0. 0. 0.]\n",
      " [0. 0. 0. ... 0. 0. 0.]\n",
      " ...\n",
      " [0. 0. 0. ... 0. 0. 0.]\n",
      " [0. 0. 0. ... 0. 0. 0.]\n",
      " [0. 0. 0. ... 0. 0. 0.]]\n"
     ]
    }
   ],
   "source": [
    "# Creating the User Similarity Matrix using pairwise_distance function.\n",
    "user_correlation = 1 - pairwise_distances(df_subtracted.fillna(0), metric='cosine')\n",
    "user_correlation[np.isnan(user_correlation)] = 0\n",
    "print(user_correlation)"
   ]
  },
  {
   "cell_type": "markdown",
   "metadata": {},
   "source": [
    "###  Prediction User-User"
   ]
  },
  {
   "cell_type": "code",
   "execution_count": 315,
   "metadata": {
    "id": "CKDCr2lfpu-N"
   },
   "outputs": [
    {
     "name": "stdout",
     "output_type": "stream",
     "text": [
      "[[0. 0. 0. ... 0. 0. 0.]\n",
      " [0. 0. 0. ... 0. 0. 0.]\n",
      " [0. 0. 0. ... 0. 0. 0.]\n",
      " ...\n",
      " [0. 0. 0. ... 0. 0. 0.]\n",
      " [0. 0. 0. ... 0. 0. 0.]\n",
      " [0. 0. 0. ... 0. 0. 0.]]\n"
     ]
    }
   ],
   "source": [
    "print(user_correlation)"
   ]
  },
  {
   "cell_type": "code",
   "execution_count": 316,
   "metadata": {},
   "outputs": [
    {
     "data": {
      "text/plain": [
       "array([[0., 0., 0., ..., 0., 0., 0.],\n",
       "       [0., 0., 0., ..., 0., 0., 0.],\n",
       "       [0., 0., 0., ..., 0., 0., 0.],\n",
       "       ...,\n",
       "       [0., 0., 0., ..., 0., 0., 0.],\n",
       "       [0., 0., 0., ..., 0., 0., 0.],\n",
       "       [0., 0., 0., ..., 0., 0., 0.]])"
      ]
     },
     "execution_count": 316,
     "metadata": {},
     "output_type": "execute_result"
    }
   ],
   "source": [
    "user_correlation[user_correlation<0]=0\n",
    "user_correlation"
   ]
  },
  {
   "cell_type": "code",
   "execution_count": 317,
   "metadata": {},
   "outputs": [
    {
     "data": {
      "text/plain": [
       "array([[0., 0., 0., ..., 0., 0., 0.],\n",
       "       [0., 0., 0., ..., 0., 0., 0.],\n",
       "       [0., 0., 0., ..., 0., 0., 0.],\n",
       "       ...,\n",
       "       [0., 0., 0., ..., 0., 0., 0.],\n",
       "       [0., 0., 0., ..., 0., 0., 0.],\n",
       "       [0., 0., 0., ..., 0., 0., 0.]])"
      ]
     },
     "execution_count": 317,
     "metadata": {},
     "output_type": "execute_result"
    }
   ],
   "source": [
    "user_predicted_ratings = np.dot(user_correlation, df_pivot.fillna(0))\n",
    "user_predicted_ratings"
   ]
  },
  {
   "cell_type": "code",
   "execution_count": 318,
   "metadata": {},
   "outputs": [
    {
     "data": {
      "text/plain": [
       "(18252, 252)"
      ]
     },
     "execution_count": 318,
     "metadata": {},
     "output_type": "execute_result"
    }
   ],
   "source": [
    "user_predicted_ratings.shape"
   ]
  },
  {
   "cell_type": "code",
   "execution_count": 319,
   "metadata": {},
   "outputs": [
    {
     "data": {
      "text/html": [
       "<div>\n",
       "<style scoped>\n",
       "    .dataframe tbody tr th:only-of-type {\n",
       "        vertical-align: middle;\n",
       "    }\n",
       "\n",
       "    .dataframe tbody tr th {\n",
       "        vertical-align: top;\n",
       "    }\n",
       "\n",
       "    .dataframe thead th {\n",
       "        text-align: right;\n",
       "    }\n",
       "</style>\n",
       "<table border=\"1\" class=\"dataframe\">\n",
       "  <thead>\n",
       "    <tr style=\"text-align: right;\">\n",
       "      <th>id</th>\n",
       "      <th>AV13O1A8GV-KLJ3akUyj</th>\n",
       "      <th>AV14LG0R-jtxr-f38QfS</th>\n",
       "      <th>AV16khLE-jtxr-f38VFn</th>\n",
       "      <th>AV1YGDqsGV-KLJ3adc-O</th>\n",
       "      <th>AV1YIch7GV-KLJ3addeG</th>\n",
       "      <th>AV1YlENIglJLPUi8IHsX</th>\n",
       "      <th>AV1YmBrdGV-KLJ3adewb</th>\n",
       "      <th>AV1YmDL9vKc47QAVgr7_</th>\n",
       "      <th>AV1Ymf_rglJLPUi8II2v</th>\n",
       "      <th>AV1Yn94nvKc47QAVgtst</th>\n",
       "      <th>...</th>\n",
       "      <th>AVpfr5cb1cnluZ0-pZFp</th>\n",
       "      <th>AVpfrFDZLJeJML43Bmv0</th>\n",
       "      <th>AVpfrTyiLJeJML43BrSI</th>\n",
       "      <th>AVpfrfHF1cnluZ0-pRai</th>\n",
       "      <th>AVpfrgjFLJeJML43BvCc</th>\n",
       "      <th>AVpfs0tUilAPnD_xgqN2</th>\n",
       "      <th>AVpfthSailAPnD_xg3ON</th>\n",
       "      <th>AVpftikC1cnluZ0-p31V</th>\n",
       "      <th>AVpfv4TlilAPnD_xhjNS</th>\n",
       "      <th>AVpfvieo1cnluZ0-qdnu</th>\n",
       "    </tr>\n",
       "    <tr>\n",
       "      <th>reviews_username</th>\n",
       "      <th></th>\n",
       "      <th></th>\n",
       "      <th></th>\n",
       "      <th></th>\n",
       "      <th></th>\n",
       "      <th></th>\n",
       "      <th></th>\n",
       "      <th></th>\n",
       "      <th></th>\n",
       "      <th></th>\n",
       "      <th></th>\n",
       "      <th></th>\n",
       "      <th></th>\n",
       "      <th></th>\n",
       "      <th></th>\n",
       "      <th></th>\n",
       "      <th></th>\n",
       "      <th></th>\n",
       "      <th></th>\n",
       "      <th></th>\n",
       "      <th></th>\n",
       "    </tr>\n",
       "  </thead>\n",
       "  <tbody>\n",
       "    <tr>\n",
       "      <th>00dog3</th>\n",
       "      <td>0.0</td>\n",
       "      <td>0.0</td>\n",
       "      <td>0.0</td>\n",
       "      <td>0.0</td>\n",
       "      <td>0.0</td>\n",
       "      <td>0.0</td>\n",
       "      <td>0.0</td>\n",
       "      <td>0.0</td>\n",
       "      <td>0.0</td>\n",
       "      <td>0.0</td>\n",
       "      <td>...</td>\n",
       "      <td>0.0</td>\n",
       "      <td>0.0</td>\n",
       "      <td>0.0</td>\n",
       "      <td>0.0</td>\n",
       "      <td>0.0</td>\n",
       "      <td>0.0</td>\n",
       "      <td>0.0</td>\n",
       "      <td>0.0</td>\n",
       "      <td>0.0</td>\n",
       "      <td>0.0</td>\n",
       "    </tr>\n",
       "    <tr>\n",
       "      <th>00sab00</th>\n",
       "      <td>0.0</td>\n",
       "      <td>0.0</td>\n",
       "      <td>0.0</td>\n",
       "      <td>0.0</td>\n",
       "      <td>0.0</td>\n",
       "      <td>0.0</td>\n",
       "      <td>0.0</td>\n",
       "      <td>0.0</td>\n",
       "      <td>0.0</td>\n",
       "      <td>0.0</td>\n",
       "      <td>...</td>\n",
       "      <td>0.0</td>\n",
       "      <td>0.0</td>\n",
       "      <td>0.0</td>\n",
       "      <td>0.0</td>\n",
       "      <td>0.0</td>\n",
       "      <td>0.0</td>\n",
       "      <td>0.0</td>\n",
       "      <td>0.0</td>\n",
       "      <td>0.0</td>\n",
       "      <td>0.0</td>\n",
       "    </tr>\n",
       "    <tr>\n",
       "      <th>01impala</th>\n",
       "      <td>0.0</td>\n",
       "      <td>0.0</td>\n",
       "      <td>0.0</td>\n",
       "      <td>0.0</td>\n",
       "      <td>0.0</td>\n",
       "      <td>0.0</td>\n",
       "      <td>0.0</td>\n",
       "      <td>0.0</td>\n",
       "      <td>0.0</td>\n",
       "      <td>0.0</td>\n",
       "      <td>...</td>\n",
       "      <td>0.0</td>\n",
       "      <td>0.0</td>\n",
       "      <td>0.0</td>\n",
       "      <td>0.0</td>\n",
       "      <td>0.0</td>\n",
       "      <td>0.0</td>\n",
       "      <td>0.0</td>\n",
       "      <td>0.0</td>\n",
       "      <td>0.0</td>\n",
       "      <td>0.0</td>\n",
       "    </tr>\n",
       "    <tr>\n",
       "      <th>0325home</th>\n",
       "      <td>0.0</td>\n",
       "      <td>0.0</td>\n",
       "      <td>0.0</td>\n",
       "      <td>0.0</td>\n",
       "      <td>0.0</td>\n",
       "      <td>0.0</td>\n",
       "      <td>0.0</td>\n",
       "      <td>0.0</td>\n",
       "      <td>0.0</td>\n",
       "      <td>0.0</td>\n",
       "      <td>...</td>\n",
       "      <td>0.0</td>\n",
       "      <td>0.0</td>\n",
       "      <td>0.0</td>\n",
       "      <td>0.0</td>\n",
       "      <td>0.0</td>\n",
       "      <td>0.0</td>\n",
       "      <td>0.0</td>\n",
       "      <td>0.0</td>\n",
       "      <td>0.0</td>\n",
       "      <td>0.0</td>\n",
       "    </tr>\n",
       "    <tr>\n",
       "      <th>06stidriver</th>\n",
       "      <td>0.0</td>\n",
       "      <td>0.0</td>\n",
       "      <td>0.0</td>\n",
       "      <td>0.0</td>\n",
       "      <td>0.0</td>\n",
       "      <td>0.0</td>\n",
       "      <td>0.0</td>\n",
       "      <td>0.0</td>\n",
       "      <td>0.0</td>\n",
       "      <td>0.0</td>\n",
       "      <td>...</td>\n",
       "      <td>0.0</td>\n",
       "      <td>0.0</td>\n",
       "      <td>0.0</td>\n",
       "      <td>0.0</td>\n",
       "      <td>0.0</td>\n",
       "      <td>0.0</td>\n",
       "      <td>0.0</td>\n",
       "      <td>0.0</td>\n",
       "      <td>0.0</td>\n",
       "      <td>0.0</td>\n",
       "    </tr>\n",
       "  </tbody>\n",
       "</table>\n",
       "<p>5 rows × 252 columns</p>\n",
       "</div>"
      ],
      "text/plain": [
       "id                AV13O1A8GV-KLJ3akUyj  AV14LG0R-jtxr-f38QfS  \\\n",
       "reviews_username                                               \n",
       "00dog3                             0.0                   0.0   \n",
       "00sab00                            0.0                   0.0   \n",
       "01impala                           0.0                   0.0   \n",
       "0325home                           0.0                   0.0   \n",
       "06stidriver                        0.0                   0.0   \n",
       "\n",
       "id                AV16khLE-jtxr-f38VFn  AV1YGDqsGV-KLJ3adc-O  \\\n",
       "reviews_username                                               \n",
       "00dog3                             0.0                   0.0   \n",
       "00sab00                            0.0                   0.0   \n",
       "01impala                           0.0                   0.0   \n",
       "0325home                           0.0                   0.0   \n",
       "06stidriver                        0.0                   0.0   \n",
       "\n",
       "id                AV1YIch7GV-KLJ3addeG  AV1YlENIglJLPUi8IHsX  \\\n",
       "reviews_username                                               \n",
       "00dog3                             0.0                   0.0   \n",
       "00sab00                            0.0                   0.0   \n",
       "01impala                           0.0                   0.0   \n",
       "0325home                           0.0                   0.0   \n",
       "06stidriver                        0.0                   0.0   \n",
       "\n",
       "id                AV1YmBrdGV-KLJ3adewb  AV1YmDL9vKc47QAVgr7_  \\\n",
       "reviews_username                                               \n",
       "00dog3                             0.0                   0.0   \n",
       "00sab00                            0.0                   0.0   \n",
       "01impala                           0.0                   0.0   \n",
       "0325home                           0.0                   0.0   \n",
       "06stidriver                        0.0                   0.0   \n",
       "\n",
       "id                AV1Ymf_rglJLPUi8II2v  AV1Yn94nvKc47QAVgtst  ...  \\\n",
       "reviews_username                                              ...   \n",
       "00dog3                             0.0                   0.0  ...   \n",
       "00sab00                            0.0                   0.0  ...   \n",
       "01impala                           0.0                   0.0  ...   \n",
       "0325home                           0.0                   0.0  ...   \n",
       "06stidriver                        0.0                   0.0  ...   \n",
       "\n",
       "id                AVpfr5cb1cnluZ0-pZFp  AVpfrFDZLJeJML43Bmv0  \\\n",
       "reviews_username                                               \n",
       "00dog3                             0.0                   0.0   \n",
       "00sab00                            0.0                   0.0   \n",
       "01impala                           0.0                   0.0   \n",
       "0325home                           0.0                   0.0   \n",
       "06stidriver                        0.0                   0.0   \n",
       "\n",
       "id                AVpfrTyiLJeJML43BrSI  AVpfrfHF1cnluZ0-pRai  \\\n",
       "reviews_username                                               \n",
       "00dog3                             0.0                   0.0   \n",
       "00sab00                            0.0                   0.0   \n",
       "01impala                           0.0                   0.0   \n",
       "0325home                           0.0                   0.0   \n",
       "06stidriver                        0.0                   0.0   \n",
       "\n",
       "id                AVpfrgjFLJeJML43BvCc  AVpfs0tUilAPnD_xgqN2  \\\n",
       "reviews_username                                               \n",
       "00dog3                             0.0                   0.0   \n",
       "00sab00                            0.0                   0.0   \n",
       "01impala                           0.0                   0.0   \n",
       "0325home                           0.0                   0.0   \n",
       "06stidriver                        0.0                   0.0   \n",
       "\n",
       "id                AVpfthSailAPnD_xg3ON  AVpftikC1cnluZ0-p31V  \\\n",
       "reviews_username                                               \n",
       "00dog3                             0.0                   0.0   \n",
       "00sab00                            0.0                   0.0   \n",
       "01impala                           0.0                   0.0   \n",
       "0325home                           0.0                   0.0   \n",
       "06stidriver                        0.0                   0.0   \n",
       "\n",
       "id                AVpfv4TlilAPnD_xhjNS  AVpfvieo1cnluZ0-qdnu  \n",
       "reviews_username                                              \n",
       "00dog3                             0.0                   0.0  \n",
       "00sab00                            0.0                   0.0  \n",
       "01impala                           0.0                   0.0  \n",
       "0325home                           0.0                   0.0  \n",
       "06stidriver                        0.0                   0.0  \n",
       "\n",
       "[5 rows x 252 columns]"
      ]
     },
     "execution_count": 319,
     "metadata": {},
     "output_type": "execute_result"
    }
   ],
   "source": [
    "user_final_rating = np.multiply(user_predicted_ratings,dummy_train)\n",
    "user_final_rating.head()"
   ]
  },
  {
   "cell_type": "markdown",
   "metadata": {},
   "source": [
    "# 13. Finding the top 20 recommendation for the *user*"
   ]
  },
  {
   "cell_type": "code",
   "execution_count": 320,
   "metadata": {},
   "outputs": [
    {
     "name": "stdout",
     "output_type": "stream",
     "text": [
      "Enter your user name\n",
      "joshua\n"
     ]
    }
   ],
   "source": [
    "# Take the user ID as input.\n",
    "user_input = (input(\"Enter your user name\\n\"))"
   ]
  },
  {
   "cell_type": "code",
   "execution_count": 321,
   "metadata": {},
   "outputs": [],
   "source": [
    "d = user_final_rating.loc[user_input].sort_values(ascending=False)[0:20]"
   ]
  },
  {
   "cell_type": "code",
   "execution_count": 322,
   "metadata": {},
   "outputs": [],
   "source": [
    "d = pd.DataFrame(d)"
   ]
  },
  {
   "cell_type": "code",
   "execution_count": 323,
   "metadata": {},
   "outputs": [],
   "source": [
    "product_name_id = df.groupby([\"id\"])[\"name\"].sum()"
   ]
  },
  {
   "cell_type": "code",
   "execution_count": 324,
   "metadata": {},
   "outputs": [],
   "source": [
    "product_name_id = pd.DataFrame(product_name_id)"
   ]
  },
  {
   "cell_type": "code",
   "execution_count": 325,
   "metadata": {},
   "outputs": [],
   "source": [
    "recommendation = d.merge(product_name_id, left_on='id', right_on='id')"
   ]
  },
  {
   "cell_type": "code",
   "execution_count": 326,
   "metadata": {},
   "outputs": [
    {
     "data": {
      "text/plain": [
       "(20, 1)"
      ]
     },
     "execution_count": 326,
     "metadata": {},
     "output_type": "execute_result"
    }
   ],
   "source": [
    "d.shape"
   ]
  },
  {
   "cell_type": "code",
   "execution_count": 327,
   "metadata": {
    "scrolled": false
   },
   "outputs": [
    {
     "data": {
      "text/html": [
       "<div>\n",
       "<style scoped>\n",
       "    .dataframe tbody tr th:only-of-type {\n",
       "        vertical-align: middle;\n",
       "    }\n",
       "\n",
       "    .dataframe tbody tr th {\n",
       "        vertical-align: top;\n",
       "    }\n",
       "\n",
       "    .dataframe thead th {\n",
       "        text-align: right;\n",
       "    }\n",
       "</style>\n",
       "<table border=\"1\" class=\"dataframe\">\n",
       "  <thead>\n",
       "    <tr style=\"text-align: right;\">\n",
       "      <th></th>\n",
       "      <th>joshua</th>\n",
       "      <th>name</th>\n",
       "    </tr>\n",
       "    <tr>\n",
       "      <th>id</th>\n",
       "      <th></th>\n",
       "      <th></th>\n",
       "    </tr>\n",
       "  </thead>\n",
       "  <tbody>\n",
       "    <tr>\n",
       "      <th>AVpfPaoqLJeJML435Xk9</th>\n",
       "      <td>16.323714</td>\n",
       "      <td>Godzilla 3d Includes Digital Copy Ultraviolet ...</td>\n",
       "    </tr>\n",
       "    <tr>\n",
       "      <th>AVpfM_ytilAPnD_xXIJb</th>\n",
       "      <td>7.939935</td>\n",
       "      <td>Tostitos Bite Size Tortilla ChipsTostitos Bite...</td>\n",
       "    </tr>\n",
       "    <tr>\n",
       "      <th>AVpfPnrU1cnluZ0-g9rL</th>\n",
       "      <td>6.160020</td>\n",
       "      <td>Stargate (ws) (ultimate Edition) (director's C...</td>\n",
       "    </tr>\n",
       "    <tr>\n",
       "      <th>AVpfOIrkilAPnD_xXgDG</th>\n",
       "      <td>4.776709</td>\n",
       "      <td>Alex Cross (dvdvideo)Alex Cross (dvdvideo)Alex...</td>\n",
       "    </tr>\n",
       "    <tr>\n",
       "      <th>AVpe41TqilAPnD_xQH3d</th>\n",
       "      <td>4.478607</td>\n",
       "      <td>Mike Dave Need Wedding Dates (dvd + Digital)Mi...</td>\n",
       "    </tr>\n",
       "    <tr>\n",
       "      <th>AVpe59io1cnluZ0-ZgDU</th>\n",
       "      <td>3.752777</td>\n",
       "      <td>My Big Fat Greek Wedding 2 (blu-Ray + Dvd + Di...</td>\n",
       "    </tr>\n",
       "    <tr>\n",
       "      <th>AV1YGDqsGV-KLJ3adc-O</th>\n",
       "      <td>3.333333</td>\n",
       "      <td>Windex Original Glass Cleaner Refill 67.6oz (2...</td>\n",
       "    </tr>\n",
       "    <tr>\n",
       "      <th>AVpfrFDZLJeJML43Bmv0</th>\n",
       "      <td>3.273268</td>\n",
       "      <td>Meguiar's Ultimate Quik Detailer 22-Oz.Meguiar...</td>\n",
       "    </tr>\n",
       "    <tr>\n",
       "      <th>AVpe9W4D1cnluZ0-avf0</th>\n",
       "      <td>3.273268</td>\n",
       "      <td>Hoover174 Platinum Collection153 Lightweight B...</td>\n",
       "    </tr>\n",
       "    <tr>\n",
       "      <th>AVpf5olc1cnluZ0-tPrO</th>\n",
       "      <td>2.886751</td>\n",
       "      <td>Chester's Cheese Flavored Puffcorn SnacksChest...</td>\n",
       "    </tr>\n",
       "    <tr>\n",
       "      <th>AVpe31o71cnluZ0-YrSD</th>\n",
       "      <td>2.886751</td>\n",
       "      <td>Dark Shadows (includes Digital Copy) (ultravio...</td>\n",
       "    </tr>\n",
       "    <tr>\n",
       "      <th>AVpe8gsILJeJML43y6Ed</th>\n",
       "      <td>2.309401</td>\n",
       "      <td>Pendaflex174 Divide It Up File Folder, Multi S...</td>\n",
       "    </tr>\n",
       "    <tr>\n",
       "      <th>AVpfpM2yilAPnD_xfmDG</th>\n",
       "      <td>1.666667</td>\n",
       "      <td>Ragu Traditional Pasta SauceRagu Traditional P...</td>\n",
       "    </tr>\n",
       "    <tr>\n",
       "      <th>AVpfN6Z71cnluZ0-gZmO</th>\n",
       "      <td>1.443376</td>\n",
       "      <td>Caress Moisturizing Body Bar Natural Silk, 4.7...</td>\n",
       "    </tr>\n",
       "    <tr>\n",
       "      <th>AVpfRTh1ilAPnD_xYic2</th>\n",
       "      <td>1.154701</td>\n",
       "      <td>Planes: Fire Rescue (2 Discs) (includes Digita...</td>\n",
       "    </tr>\n",
       "    <tr>\n",
       "      <th>AVpfazX31cnluZ0-kbdl</th>\n",
       "      <td>1.154701</td>\n",
       "      <td>Just For Men Touch Of Gray Gray Hair Treatment...</td>\n",
       "    </tr>\n",
       "    <tr>\n",
       "      <th>AVpf9UGp1cnluZ0-uITX</th>\n",
       "      <td>0.629941</td>\n",
       "      <td>Post Bound Jumbo Album - Burgundy (11x14)Post ...</td>\n",
       "    </tr>\n",
       "    <tr>\n",
       "      <th>AVpfov9TLJeJML43A7B0</th>\n",
       "      <td>0.629941</td>\n",
       "      <td>Bisquick Original Pancake And Baking Mix - 40o...</td>\n",
       "    </tr>\n",
       "    <tr>\n",
       "      <th>AV1Ymf_rglJLPUi8II2v</th>\n",
       "      <td>0.629941</td>\n",
       "      <td>Cars Toon: Mater's Tall TalesCars Toon: Mater'...</td>\n",
       "    </tr>\n",
       "    <tr>\n",
       "      <th>AVpfR5m0LJeJML436K3W</th>\n",
       "      <td>0.503953</td>\n",
       "      <td>Jason Aldean - They Don't KnowJason Aldean - T...</td>\n",
       "    </tr>\n",
       "  </tbody>\n",
       "</table>\n",
       "</div>"
      ],
      "text/plain": [
       "                         joshua  \\\n",
       "id                                \n",
       "AVpfPaoqLJeJML435Xk9  16.323714   \n",
       "AVpfM_ytilAPnD_xXIJb   7.939935   \n",
       "AVpfPnrU1cnluZ0-g9rL   6.160020   \n",
       "AVpfOIrkilAPnD_xXgDG   4.776709   \n",
       "AVpe41TqilAPnD_xQH3d   4.478607   \n",
       "AVpe59io1cnluZ0-ZgDU   3.752777   \n",
       "AV1YGDqsGV-KLJ3adc-O   3.333333   \n",
       "AVpfrFDZLJeJML43Bmv0   3.273268   \n",
       "AVpe9W4D1cnluZ0-avf0   3.273268   \n",
       "AVpf5olc1cnluZ0-tPrO   2.886751   \n",
       "AVpe31o71cnluZ0-YrSD   2.886751   \n",
       "AVpe8gsILJeJML43y6Ed   2.309401   \n",
       "AVpfpM2yilAPnD_xfmDG   1.666667   \n",
       "AVpfN6Z71cnluZ0-gZmO   1.443376   \n",
       "AVpfRTh1ilAPnD_xYic2   1.154701   \n",
       "AVpfazX31cnluZ0-kbdl   1.154701   \n",
       "AVpf9UGp1cnluZ0-uITX   0.629941   \n",
       "AVpfov9TLJeJML43A7B0   0.629941   \n",
       "AV1Ymf_rglJLPUi8II2v   0.629941   \n",
       "AVpfR5m0LJeJML436K3W   0.503953   \n",
       "\n",
       "                                                                   name  \n",
       "id                                                                       \n",
       "AVpfPaoqLJeJML435Xk9  Godzilla 3d Includes Digital Copy Ultraviolet ...  \n",
       "AVpfM_ytilAPnD_xXIJb  Tostitos Bite Size Tortilla ChipsTostitos Bite...  \n",
       "AVpfPnrU1cnluZ0-g9rL  Stargate (ws) (ultimate Edition) (director's C...  \n",
       "AVpfOIrkilAPnD_xXgDG  Alex Cross (dvdvideo)Alex Cross (dvdvideo)Alex...  \n",
       "AVpe41TqilAPnD_xQH3d  Mike Dave Need Wedding Dates (dvd + Digital)Mi...  \n",
       "AVpe59io1cnluZ0-ZgDU  My Big Fat Greek Wedding 2 (blu-Ray + Dvd + Di...  \n",
       "AV1YGDqsGV-KLJ3adc-O  Windex Original Glass Cleaner Refill 67.6oz (2...  \n",
       "AVpfrFDZLJeJML43Bmv0  Meguiar's Ultimate Quik Detailer 22-Oz.Meguiar...  \n",
       "AVpe9W4D1cnluZ0-avf0  Hoover174 Platinum Collection153 Lightweight B...  \n",
       "AVpf5olc1cnluZ0-tPrO  Chester's Cheese Flavored Puffcorn SnacksChest...  \n",
       "AVpe31o71cnluZ0-YrSD  Dark Shadows (includes Digital Copy) (ultravio...  \n",
       "AVpe8gsILJeJML43y6Ed  Pendaflex174 Divide It Up File Folder, Multi S...  \n",
       "AVpfpM2yilAPnD_xfmDG  Ragu Traditional Pasta SauceRagu Traditional P...  \n",
       "AVpfN6Z71cnluZ0-gZmO  Caress Moisturizing Body Bar Natural Silk, 4.7...  \n",
       "AVpfRTh1ilAPnD_xYic2  Planes: Fire Rescue (2 Discs) (includes Digita...  \n",
       "AVpfazX31cnluZ0-kbdl  Just For Men Touch Of Gray Gray Hair Treatment...  \n",
       "AVpf9UGp1cnluZ0-uITX  Post Bound Jumbo Album - Burgundy (11x14)Post ...  \n",
       "AVpfov9TLJeJML43A7B0  Bisquick Original Pancake And Baking Mix - 40o...  \n",
       "AV1Ymf_rglJLPUi8II2v  Cars Toon: Mater's Tall TalesCars Toon: Mater'...  \n",
       "AVpfR5m0LJeJML436K3W  Jason Aldean - They Don't KnowJason Aldean - T...  "
      ]
     },
     "execution_count": 327,
     "metadata": {},
     "output_type": "execute_result"
    }
   ],
   "source": [
    "recommendation"
   ]
  },
  {
   "cell_type": "markdown",
   "metadata": {},
   "source": [
    "# 14. Top 5 products with high percentage of positive reviews"
   ]
  },
  {
   "cell_type": "code",
   "execution_count": 497,
   "metadata": {},
   "outputs": [],
   "source": [
    "id_values = [i for i in recommendation.index]"
   ]
  },
  {
   "cell_type": "code",
   "execution_count": 498,
   "metadata": {},
   "outputs": [],
   "source": [
    "total_reviews={\"id\": [],\"Count\" :[]}"
   ]
  },
  {
   "cell_type": "code",
   "execution_count": 499,
   "metadata": {},
   "outputs": [],
   "source": [
    "for i in id_values:\n",
    "    total_reviews[\"id\"].append(i)\n",
    "    total_reviews[\"Count\"].append(int(df[\"id\"][ df[\"id\"] == i].count()))"
   ]
  },
  {
   "cell_type": "code",
   "execution_count": 500,
   "metadata": {},
   "outputs": [],
   "source": [
    "total_reviews = pd.DataFrame(total_reviews)"
   ]
  },
  {
   "cell_type": "code",
   "execution_count": 501,
   "metadata": {},
   "outputs": [],
   "source": [
    "total_reviews = total_reviews.merge(recommendation,left_on='id',right_on='id')"
   ]
  },
  {
   "cell_type": "code",
   "execution_count": 503,
   "metadata": {},
   "outputs": [],
   "source": [
    "positive_reviews = df[[\"id\",\"user_sentiment\"]]"
   ]
  },
  {
   "cell_type": "code",
   "execution_count": 504,
   "metadata": {},
   "outputs": [],
   "source": [
    "positive_reviews = positive_reviews.groupby(\"id\").sum()"
   ]
  },
  {
   "cell_type": "code",
   "execution_count": 506,
   "metadata": {},
   "outputs": [],
   "source": [
    "positive_reviews = positive_reviews.merge(total_reviews,left_on='id',right_on='id')"
   ]
  },
  {
   "cell_type": "code",
   "execution_count": 508,
   "metadata": {},
   "outputs": [],
   "source": [
    "positive_reviews[\"Positive_Percentage\"] = round((positive_reviews[\"user_sentiment\"]/positive_reviews[\"Count\"])*100,3)"
   ]
  },
  {
   "cell_type": "code",
   "execution_count": 510,
   "metadata": {},
   "outputs": [],
   "source": [
    "positive_reviews.sort_values([\"Positive_Percentage\"],ascending=False,inplace=True)"
   ]
  },
  {
   "cell_type": "markdown",
   "metadata": {},
   "source": [
    "###  These are the top 5 recommended products which has the highest positive reviews"
   ]
  },
  {
   "cell_type": "code",
   "execution_count": 514,
   "metadata": {},
   "outputs": [
    {
     "data": {
      "text/html": [
       "<div>\n",
       "<style scoped>\n",
       "    .dataframe tbody tr th:only-of-type {\n",
       "        vertical-align: middle;\n",
       "    }\n",
       "\n",
       "    .dataframe tbody tr th {\n",
       "        vertical-align: top;\n",
       "    }\n",
       "\n",
       "    .dataframe thead th {\n",
       "        text-align: right;\n",
       "    }\n",
       "</style>\n",
       "<table border=\"1\" class=\"dataframe\">\n",
       "  <thead>\n",
       "    <tr style=\"text-align: right;\">\n",
       "      <th></th>\n",
       "      <th>name</th>\n",
       "      <th>Positive_Percentage</th>\n",
       "    </tr>\n",
       "  </thead>\n",
       "  <tbody>\n",
       "    <tr>\n",
       "      <th>13</th>\n",
       "      <td>Stargate (ws) (ultimate Edition) (director's C...</td>\n",
       "      <td>96.237</td>\n",
       "    </tr>\n",
       "    <tr>\n",
       "      <th>4</th>\n",
       "      <td>My Big Fat Greek Wedding 2 (blu-Ray + Dvd + Di...</td>\n",
       "      <td>95.958</td>\n",
       "    </tr>\n",
       "    <tr>\n",
       "      <th>19</th>\n",
       "      <td>Meguiar's Ultimate Quik Detailer 22-Oz.Meguiar...</td>\n",
       "      <td>93.103</td>\n",
       "    </tr>\n",
       "    <tr>\n",
       "      <th>15</th>\n",
       "      <td>Planes: Fire Rescue (2 Discs) (includes Digita...</td>\n",
       "      <td>93.001</td>\n",
       "    </tr>\n",
       "    <tr>\n",
       "      <th>6</th>\n",
       "      <td>Hoover174 Platinum Collection153 Lightweight B...</td>\n",
       "      <td>91.436</td>\n",
       "    </tr>\n",
       "  </tbody>\n",
       "</table>\n",
       "</div>"
      ],
      "text/plain": [
       "                                                 name  Positive_Percentage\n",
       "13  Stargate (ws) (ultimate Edition) (director's C...               96.237\n",
       "4   My Big Fat Greek Wedding 2 (blu-Ray + Dvd + Di...               95.958\n",
       "19  Meguiar's Ultimate Quik Detailer 22-Oz.Meguiar...               93.103\n",
       "15  Planes: Fire Rescue (2 Discs) (includes Digita...               93.001\n",
       "6   Hoover174 Platinum Collection153 Lightweight B...               91.436"
      ]
     },
     "execution_count": 514,
     "metadata": {},
     "output_type": "execute_result"
    }
   ],
   "source": [
    "positive_reviews[[\"name\",\"Positive_Percentage\"]].head(5)"
   ]
  }
 ],
 "metadata": {
  "accelerator": "GPU",
  "colab": {
   "authorship_tag": "ABX9TyNfefCzJV2St9enN7jaCrmy",
   "gpuType": "T4",
   "provenance": []
  },
  "kernelspec": {
   "display_name": "Python 3 (ipykernel)",
   "language": "python",
   "name": "python3"
  },
  "language_info": {
   "codemirror_mode": {
    "name": "ipython",
    "version": 3
   },
   "file_extension": ".py",
   "mimetype": "text/x-python",
   "name": "python",
   "nbconvert_exporter": "python",
   "pygments_lexer": "ipython3",
   "version": "3.9.12"
  }
 },
 "nbformat": 4,
 "nbformat_minor": 1
}
